{
  "cells": [
    {
      "cell_type": "markdown",
      "id": "c5feec12-8ef1-438e-b567-0386ede99569",
      "metadata": {},
      "source": [
        "# Graphes\n",
        "Les graphes sont des objets mathématiques. \n",
        "\n",
        "Un graphe est défini par \n",
        "* un ensemble $S$ de **sommets**\n",
        "* un ensemble $A$ d'**arêtes** ou **arcs** reliant ces sommets\n",
        "\n",
        "Il existe principalement deux sortes de graphes.\n",
        "\n",
        "* les graphes **non orientés simples**\n",
        "    * il n'y a au maximum qu'**une arête** entre deux sommets distincts\n",
        "    * il n'y a pas d'arête d'un sommet à lui-même (boucle)\n",
        "    * les arêtes n'ont pas de sens. On les rerésente avec des traits non fléchés.\n",
        "    * deux sommets reliés par une arête sont dits **adjacents**, ou **voisins**\n",
        "    * l'ensemble des **voisins** d'un sommet est l'ensemble des sommets directement reliés à ce sommet\n",
        "    * Une suite de sommets telle qu'on passe de l'un à l'autre en suivant une arête s'appelle une **chaîne**\n",
        "    \n",
        "<img width=300px alt=\"Un graphe non orienté. Remarquez le sommet <em>E</em> isolé.\" src=\"grapheNO.jpg\"></img>\n",
        " \n",
        "* les graphes **orientés** \n",
        "     * on parle alors d'**arc** et non d'arête entre deux sommets. On représente les rcs par des flèches.\n",
        "     * on dit qu'un sommet $s_2$ est un **successeur** d'un sommet $s_1$ s'il existe un arc de $s_1$ à s$_2$. Inversement, dans ce cas $s_1$ est un **prédéceseur** de $s_2$\n",
        "     * il y a au maximun deux arcs entre deux sommets: un dans chaque sens\n",
        "     * il peut y avoir une flèche d'un sommet $s$ à ce même sommet\n",
        "     * Une suite de sommets telle qu'on passe de l'un à l'autre en suivant une arête s'appelle un **chemin**\n",
        "\n",
        "<img width=300px alt=\"Un graphe orienté. Notez que le sommet <em>a</em> a une boucle.\" src=\"grapheO.jpg\"></img>\n"
      ]
    },
    {
      "cell_type": "markdown",
      "id": "03be299a-e30d-47e9-a915-056e2568bbe0",
      "metadata": {},
      "source": [
        "Dans tous les cas, il peut y avoir des sommets reliés à aucun autre sommet. On parle alors de sommet **isolé**.\n",
        "\n",
        "Chacune de ces deux sortes peut être enrichie par des nombres affectés aux arcs ou aux arêtes: on obtinent alors un graphe **pondéré**.\n",
        "\n",
        "Le nombre affecté à chaque arête ou arc s'appelle son **poids**.\n",
        "\n",
        "Ces nombres peuvent représenter \n",
        "\n",
        "- une distance entre deux points d'une carte \n",
        "- une probabilté de transition d'un état dans un autre \n",
        "- le coût d'un déplacement d'un point à un autre d'un réseau\n",
        "etc."
      ]
    },
    {
      "cell_type": "markdown",
      "id": "45fe96fe-e16b-4a5c-a1ad-63d3df242ee8",
      "metadata": {},
      "source": [
        "## Structure de données\n",
        "\n",
        "### Représentation d'un graphe par matrice d'adjacence\n",
        "\n",
        "#### Pour un graphe orienté\n",
        "On peut représenter un graphe orienté par une **matrice d'adjacence**.\n",
        "\n",
        "On suppose avoir numéroté les sommets du graphe: $1,2,\\ldots,n$ \n",
        "\n",
        "* c'est une matrice carrée. Elle a autant de lignes (et de colonnes) que de sommets du graphe.\n",
        "* cette matrice $A$ ne contient que des 0 et des 1\n",
        "* l'élément $a_{i,j}$ de cette matrice vaut 1 si et seulement si il existe un arc du sommet $i$ au sommet $j$\n",
        "\n",
        "Les lignes correspondent donc aux sommets de départ, les colonnes aux sommets d'arrivée.\n",
        "\n",
        "Exemple: le graphe orienté vu plus haut est représenté par la matrice d'adjacence $6\\times 6$ suivante : \n",
        "\n",
        "|↗ | a | b | c | d | e | f |\n",
        "|---|---|---|---|---|---|---|\n",
        "| a | 1 |   |   | 1 |   |   |\n",
        "| b |   |   | 1 |   |   |   |\n",
        "| c |   |   |   | 1 | 1 |   |\n",
        "| d | 1 |   | 1 |   |   |   |\n",
        "| e |   |   | 1 |   |   |   |\n",
        "| f | 1 |   |   |   |   |   |\n",
        "\n",
        "Pour plus de clarté, les zéros ont été omis et les noms des sommets rappelés en tête de ligne et de colonne.\n"
      ]
    },
    {
      "cell_type": "markdown",
      "id": "73e41554-b253-4b5d-91e2-3d587066a5d9",
      "metadata": {},
      "source": [
        "#### Pour un graphe non orienté\n",
        "La même technique peut être employée: en effet un graphe non orienté peut être vu comme un graphe orienté particulier.\n",
        "\n",
        "Une arête entre un sommet $s_i$ et un sommet $s_j$ ($i\\neq j$) est alors représentée par deux arcs: un arc $s_i\\to s_j$ et un arc $s_j \\to s_i$.\n",
        "\n",
        "<img width=200px alt=\"Deux arcs par arête\" src=\"2arcs.jpg\"></img>\n",
        "\n",
        "Il faut donc ne pas oublier de manipuler _deux_ arcs à chaque fois qu'on modifie _une_ arête.\n",
        "\n",
        "On obtient une **matrice symétrique** par rapport à sa diagonale principale.  \n",
        "\n",
        "\n",
        "\n",
        "<img width=300px alt=\"Un graphe non orienté a une matrice d'adjacence symétrique\" src=\"matsym.jpg\"></img>"
      ]
    },
    {
      "cell_type": "markdown",
      "id": "680021de-2296-4331-a4e8-44c082c926e2",
      "metadata": {},
      "source": [
        "#### Pour un graphe pondéré\n",
        "Dans le cas d'un graphe pondéré, la matrice est remplie avec les poids du graphe:  $a_{i,j}$ représente le poids affecté à l'arc $s_i\\to s_j$ (qui existe donc).\n",
        "\n",
        "Il faut alors convenir d'une valeur spéciale comme  `None` pour signaler l'absence d'arc.\n",
        "\n",
        "Dans la suite, par simplicité on ne s'intéressera qu'à des graphes non pondérés."
      ]
    },
    {
      "cell_type": "markdown",
      "id": "c395f528-c8d9-411d-ae04-9e704fa736e9",
      "metadata": {},
      "source": [
        "### Représentation d'un graphe orienté par listes de successeurs\n",
        "On étudie ici comment utiliser Python pour définir un graphe orienté en utilisant une structure bien connue: un _dictionnaire_.\n",
        "\n",
        "Un graphe $G$ est représenté par un dictionnaire $g$ tel que:\n",
        "\n",
        "* chaque clé représente un sommet\n",
        "* la valeur associée à cette clé est la liste des successeurs de ce sommet dans le graphe $G$\n",
        "  "
      ]
    },
    {
      "cell_type": "code",
      "execution_count": 35,
      "id": "64557c40-7abe-4588-815c-ee7ea700d67c",
      "metadata": {
        "trusted": true
      },
      "outputs": [],
      "source": [
        "g = {\n",
        "    \"a\": [\"a\", \"d\"],\n",
        "    \"b\": [\"c\"],\n",
        "    \"c\": [\"d\", \"e\"],\n",
        "    \"d\": [\"a\", \"c\"],\n",
        "    \"e\": [\"c\"],\n",
        "    \"f\": [\"a\"],\n",
        "}"
      ]
    },
    {
      "cell_type": "markdown",
      "id": "2cb8f3f5-2269-41e1-8135-3d9ba7a1139e",
      "metadata": {},
      "source": [
        "TODO dessin de g\n",
        "\n",
        "\n",
        "\n",
        "\n",
        "Pour un graphe non orienté, les précautions déjà évoquées sont encore valables:\n",
        " si $s_j$ fait partie des successeurs de $s_i$, il faut veiller à ce que \n",
        "   $s_i$ soit bien aussi dans la liste des successeurs de $s_j$."
      ]
    },
    {
      "cell_type": "markdown",
      "id": "12c83296-12a5-491b-9223-edbb8e2b2537",
      "metadata": {},
      "source": [
        "Cette représentation facilite certaines opérations:\n",
        "- pour obtenir la liste des sommets : "
      ]
    },
    {
      "cell_type": "code",
      "execution_count": 36,
      "id": "e059e246-470f-40a5-a2ca-24929d5c3d6a",
      "metadata": {
        "trusted": true
      },
      "outputs": [
        {
          "data": {
            "text/plain": [
              "['a', 'b', 'c', 'd', 'e', 'f']"
            ]
          },
          "execution_count": 36,
          "metadata": {},
          "output_type": "execute_result"
        }
      ],
      "source": [
        "list(g.keys())"
      ]
    },
    {
      "cell_type": "markdown",
      "id": "43e189f2-7d99-40a7-b3e1-90a6b64c1f19",
      "metadata": {},
      "source": [
        "- pour obtenir la liste des successeurs d'un sommet"
      ]
    },
    {
      "cell_type": "code",
      "execution_count": 37,
      "id": "9d9df082-aa2d-464d-a60e-0e897fe62e29",
      "metadata": {
        "trusted": true
      },
      "outputs": [
        {
          "data": {
            "text/plain": [
              "['a', 'c']"
            ]
          },
          "execution_count": 37,
          "metadata": {},
          "output_type": "execute_result"
        }
      ],
      "source": [
        "g[\"d\"]"
      ]
    },
    {
      "cell_type": "markdown",
      "id": "92f92e10-51d5-485c-a1b5-de2888434e5f",
      "metadata": {},
      "source": [
        "- pour obtenir la liste des prédécesseurs d'un sommet"
      ]
    },
    {
      "cell_type": "code",
      "execution_count": 38,
      "id": "b7895a33-ce4e-44f2-b808-0368ee7892da",
      "metadata": {
        "trusted": true
      },
      "outputs": [
        {
          "data": {
            "text/plain": [
              "['b', 'd', 'e']"
            ]
          },
          "execution_count": 38,
          "metadata": {},
          "output_type": "execute_result"
        }
      ],
      "source": [
        "[x for x in list(g.keys()) if \"c\" in g[x]] # exemple: les prédécesseurs de c"
      ]
    },
    {
      "cell_type": "markdown",
      "id": "5df8f39a-aef5-4adf-95a7-1c257cc9c4be",
      "metadata": {},
      "source": [
        "* pour ajouter un sommet isolé"
      ]
    },
    {
      "cell_type": "code",
      "execution_count": 39,
      "id": "05f513b5-9fe3-49b5-baf3-112de16e707b",
      "metadata": {
        "trusted": true
      },
      "outputs": [],
      "source": [
        "g[\"k\"] = []"
      ]
    },
    {
      "cell_type": "markdown",
      "id": "acda090a-dd50-4a60-ac85-4b7504b94005",
      "metadata": {},
      "source": [
        "* pour ajouter une arête entre deux sommets existants"
      ]
    },
    {
      "cell_type": "code",
      "execution_count": 40,
      "id": "c037b191-11de-4dfe-bc4d-cb13ee6eb67e",
      "metadata": {
        "trusted": true
      },
      "outputs": [],
      "source": [
        "g[\"k\"].append(\"f\")      # ajoute l'arc k -> f\n",
        "g[\"f\"].append(\"k\")      # ajoute l'arc f -> k"
      ]
    },
    {
      "cell_type": "markdown",
      "id": "74f35dfd-efde-4f6d-9342-5fc9c960a2b5",
      "metadata": {},
      "source": [
        "* pour supprimer un sommet\n",
        "Il faut supprimer \n",
        "    - Le sommet et les arcs au départ de celui-ci\n",
        "    - les arcs arrivant à celui-ci"
      ]
    },
    {
      "cell_type": "code",
      "execution_count": 41,
      "id": "c0930191-1d3c-4fe3-8426-a820c931e80b",
      "metadata": {
        "trusted": true
      },
      "outputs": [],
      "source": [
        "del g[\"k\"] \n",
        "for s in g:\n",
        "     if \"k\" in g[s]:\n",
        "         g[s].remove(\"k\")"
      ]
    },
    {
      "cell_type": "markdown",
      "id": "4a3a8871-412b-43b1-8d65-33646e7dbbb2",
      "metadata": {},
      "source": [
        "#### Passage de la représentation matricielle à la représentation par listes de successeurs\n",
        "\n",
        "On suppose que les sommets sont représentés par des numéros $1, 2, \\ldots, n$.\n",
        "\n",
        "Algorithme :\n",
        "\n",
        "> $n$ est un entier strictement positif\n",
        ">\n",
        "> $a$ est une matrice $n\\times n$\n",
        ">\n",
        "> $g$ est un dictionnaire vide\n",
        ">\n",
        "> $lsucc$ est une liste\n",
        ">\n",
        "> Pour $i$ allant de 1 à $n$:\n",
        "> >  $lsucc \\leftarrow []$\n",
        "> >  \n",
        "> >  Pour $j$ allant de $1$ à $n$:\n",
        "> > \n",
        "> > > Si $a_{i,j} = 1$ alors ajouter $j$ à $lsucc$\n",
        "> >  \n",
        "> >  Ajouter l'association $i$ : $lsucc$ au dictionnaire $g$ \n",
        " \n",
        "Implémentation : "
      ]
    },
    {
      "cell_type": "code",
      "execution_count": 42,
      "id": "29ccd562-9e32-4e5d-a3be-82fd05eb0c29",
      "metadata": {
        "trusted": true
      },
      "outputs": [],
      "source": [
        "def matVersDic(a):\n",
        "    \"\"\" Renvoie une représentation par listes de successeurs d'un graphe orienté défini par une matirce d'adjacence a.\n",
        "        Les sommets sont numérotés.\n",
        "    Exemple:\n",
        "    >>> a = [[1,0,0,1,0],\n",
        "             [0,0,1,0,0],\n",
        "             [1,0,0,0,1],\n",
        "             [0,1,0,1,0],\n",
        "             [1,1,0,0,1]]\n",
        "    >>> matVersDic(a)\n",
        "    {0: [0, 3], 1: [2], 2: [0, 4], 3: [1, 3], 4: [0, 1, 4]}\n",
        "    \"\"\"\n",
        "    n = len(a) # dimension de la matrice\n",
        "    dic = dict()\n",
        "    for i in range(n):\n",
        "        dic[i]=[]\n",
        "        for j in range(n):\n",
        "            if a[i][j] == 1:\n",
        "                dic[i].append(j)\n",
        "    return dic\n",
        "   "
      ]
    },
    {
      "cell_type": "markdown",
      "id": "d9e668b2-5255-4c07-be78-b9bb181f1e75",
      "metadata": {},
      "source": [
        "#### Passage de la représentation par listes de successeurs à la représentation matricielle \n",
        "\n",
        "On suppose que les sommets sont représentés par des numéros $1,2,\\ldots, n$\n",
        "\n",
        "Algorithme:\n",
        "\n",
        "> $n$ est un entier strictement positif\n",
        "> \n",
        "> $a$ est une matrice $n\\times n$ remplie de zéros\n",
        ">\n",
        "> $g$ est un dictionnaire représentant un graphe orienté $G$\n",
        ">\n",
        "> $lsucc$ est une liste\n",
        ">\n",
        "> Pour chaque clé $i$ dans $g$:\n",
        "> > $lsucc \\leftarrow g[i]$\n",
        "> >\n",
        "> > Pour chaque élément $j$ de la liste $lsucc$:\n",
        "> > > $a_{i,j} = 1$\n",
        "\n",
        "Pour un graphe non orienté, il faut dédoubler l'opération:\n",
        "\n",
        "\n",
        ">    $a_{i,j} = 1$\n",
        "> \n",
        ">    $a_{j,i} = 1$\n",
        "\n",
        "Implémentation :"
      ]
    },
    {
      "cell_type": "code",
      "execution_count": 43,
      "id": "82c55a0b-d0d2-4718-b7dd-7aa6545e0beb",
      "metadata": {
        "trusted": true
      },
      "outputs": [],
      "source": [
        "def dicVersMat(g):\n",
        "    \"\"\" \n",
        "    Renvoie une représentation par une matirce d'adjacence d'un graphe orienté défini par listes de successeurs g.\n",
        "    Les sommets sont numérotés.\n",
        "    Exemple: \n",
        "\n",
        "    >>> g  ={\n",
        "    \"a\": [\"a\", \"d\"],\n",
        "    \"b\": [\"c\"],\n",
        "    \"c\": [\"d\", \"e\"],\n",
        "    \"d\": [\"a\", \"c\"],\n",
        "    \"e\": [\"c\"],\n",
        "    \"f\": [\"a\"],\n",
        "    }\n",
        "\n",
        "    >>> dicVersMat(g)\n",
        "    [[1, 0, 0, 1, 0, 0],\n",
        "     [0, 0, 1, 0, 0, 0],\n",
        "     [0, 0, 0, 1, 1, 0],\n",
        "     [1, 0, 1, 0, 0, 0],\n",
        "     [0, 0, 1, 0, 0, 0],\n",
        "     [1, 0, 0, 0, 0, 0]]  \n",
        "    \"\"\"\n",
        "    n = len(g)\n",
        "    a = [[0] *n for _ in range(n)] # une matrice carrée a nulle de dimension n\n",
        "    for i, depart in enumerate(g):\n",
        "        for arrivee in g[depart]:\n",
        "            j = list(g.keys()).index(arrivee)\n",
        "            # ou bien : j = g.keys().index(arrivee) mais nécessite OrderedDict\n",
        "            a[i][j] = 1\n",
        "    return a"
      ]
    },
    {
      "cell_type": "markdown",
      "id": "3e2229e2-766e-43cd-92f4-1bdb11101d93",
      "metadata": {},
      "source": [
        "Dans ce suit, on n'utilise que la représentation par liste de successeurs, sans utilisation d'une classe. \n",
        "## Algorithmes sur les graphes\n",
        "\n",
        "Les algorithmes à connaitre sont \n",
        "- les deux types de parcours: en largeur d'abord, en profondeur d'abord\n",
        "- repérer un cycle dans un graphe\n",
        "- chercher un chemin d'un sommet à un autre\n",
        "\n",
        "Le parcours d'un graphe consiste à visiter tous les sommets possibles à partir d'un sommet de départ, en suivant les arcs existants.\n",
        "Cela correspond à une exploration pas-à-pas, sans connaissance globale du graphe\n",
        "\n",
        "Il y a à connaître deux façons de parcourir un graphe orienté:\n",
        "\n",
        "- en profondeur d'abord\n",
        "- en largeur d'abord\n",
        "\n",
        "Pour illustrer les deux apporches, on va utiliser le graphe suivant, de structure assez régulière."
      ]
    },
    {
      "cell_type": "code",
      "execution_count": 44,
      "id": "85076a5d-4356-4a2a-858d-34a214386677",
      "metadata": {
        "trusted": true
      },
      "outputs": [],
      "source": [
        "gr3par5 = {\"A\": [\"B\", \"F\"], \"B\": [\"C\",\"G\"], \"C\":[\"D\", \"H\"], \"D\":[\"E\", \"I\"], \"E\": [\"J\"],\n",
        "           \"F\": [\"G\", \"K\"], \"G\": [\"H\",\"L\"], \"H\":[\"I\", \"M\"], \"I\":[\"J\", \"N\"], \"J\":[\"O\"],\n",
        "           \"K\": [\"L\"],      \"L\": [\"M\"],     \"M\":[\"N\"],      \"N\": [\"O\"],     \"O\": []}\n",
        "\n",
        "#\n",
        "#    A → B → C → D → E \n",
        "#    ↓   ↓   ↓   ↓   ↓\n",
        "#    F → G → H → I → J\n",
        "#    ↓   ↓   ↓   ↓   ↓\n",
        "#    K → L → M → N → O\n",
        "#"
      ]
    },
    {
      "cell_type": "markdown",
      "id": "903149e0-7f09-4556-9cb0-a74697cf0599",
      "metadata": {
        "jp-MarkdownHeadingCollapsed": true
      },
      "source": [
        "Le **parcours en profondeur d'abord** cherche à aller en priorité au bout de chaque chemin avant de revenir à un sommet déjà visité\n",
        "\n",
        "<img width=400px alt=\"Un parcours en profondeur d'abord\" src=\"gr3par5prof.jpg\"> </img>\n",
        "\n",
        "Le **parcours en largeur d'abord** cherche à aller en priorité à chacun des voisins d'un sommet \n",
        "\n",
        "<img width=400px alt=\"Un parcours en largeur d'abord\" src=\"gr3par5larg.jpg\"> </img>"
      ]
    },
    {
      "cell_type": "markdown",
      "id": "09b3a0f9",
      "metadata": {},
      "source": [
        "### Parcours en profondeur d'abord\n",
        "L'algorithme présenté ci-dessous est **récursif**.\n",
        "\n",
        "> $gr$ est un graphe orienté représenté par listes de successeurs\n",
        "> \n",
        "> $dejavu$ est un ensemble de sommets initialement vide\n",
        ">\n",
        "> **Procédure** parcourProf($gr$, $depart$):\n",
        "> > $s$, $t$ désignent des sommets\n",
        "> > \n",
        "> > Ajouter $depart$ à l'ensemble $dejavu$\n",
        "> >\n",
        "> > Pour chaque sommet $t$ successeur de $s$ faire:\n",
        "> > >\n",
        "> > >  Si $t$ n'est pas dans $dejavu$:\n",
        "> > > >\n",
        "> > > >  Traiter le sommet $t$\n",
        "> > > >\n",
        "> > > >  parcourProf($gr$, $t$)"
      ]
    },
    {
      "cell_type": "markdown",
      "id": "827887df",
      "metadata": {},
      "source": [
        "Si « Traiter » consiste à afficher, on obtient l'affichage des sommets joignables à partir de celui de départ dans l'ordre induit par la stratégie « en profondeur d'abord ».\n",
        "\n",
        "On l'implémente ci-dessous de manière plus intéressante: il devient une fonction renvoyant la liste des sommets rencontrés."
      ]
    },
    {
      "cell_type": "code",
      "execution_count": 45,
      "id": "bfae1ec0-e8bb-4d46-b471-767b9a3a0cfc",
      "metadata": {
        "trusted": true
      },
      "outputs": [],
      "source": [
        "def parcoursEnProfondeur(gr, depart):\n",
        "    \"\"\"\n",
        "    Renvoie la liste des sommets accessibles depuis le sommet depart dans le graphe gr.\n",
        "    Parcours en profondeur d'abord.\n",
        "    Version récursive.\n",
        "    >>> g ={\n",
        "    \"a\": [\"a\", \"d\"],\n",
        "    \"b\": [\"c\"],\n",
        "    \"c\": [\"d\", \"e\"],\n",
        "    \"d\": [\"a\", \"c\"],\n",
        "    \"e\": [\"c\"],\n",
        "    \"f\": [\"a\"],\n",
        "    }\n",
        "    >>> parcoursEnProfondeur(g, \"f\")\n",
        "    ['f', 'a', 'd', 'c', 'e']\n",
        "    >>> parcoursEnProfondeur(g, \"c\")\n",
        "    ['c', 'd', 'a', 'e']\n",
        "    \"\"\"\n",
        "    dejavu = set(depart)\n",
        "    liste = [depart]\n",
        "    \n",
        "    def parcoursRecursif(s):\n",
        "        for v in gr[s]:\n",
        "            if v not in dejavu:\n",
        "                liste.append(v)\n",
        "                dejavu.add(v)\n",
        "                parcoursRecursif(v)\n",
        "    parcoursRecursif(depart)\n",
        "    \n",
        "    return liste        "
      ]
    },
    {
      "cell_type": "code",
      "execution_count": null,
      "id": "39352492",
      "metadata": {},
      "outputs": [
        {
          "data": {
            "text/plain": [
              "['A', 'B', 'C', 'D', 'E', 'J', 'O', 'I', 'N', 'H', 'M', 'G', 'L', 'F', 'K']"
            ]
          },
          "metadata": {},
          "output_type": "display_data"
        }
      ],
      "source": [
        "parcoursEnProfondeur(gr3par5,\"A\")"
      ]
    },
    {
      "cell_type": "markdown",
      "id": "8701b528-dfc2-43b2-a202-130dbc29f38f",
      "metadata": {},
      "source": [
        "L'implémentation ci-dessus utilise une fonction auxiliaire `parcoursRecursif` déclarée à l'intérieur du corps de la fonction `parcoursEnProfondeur`. \n",
        "\n",
        "Cela prermet d'initialiser les variables globales utilisées par la fonction auxliliaire tout en les masquant à l'utilisateur·rice. \n",
        "\n",
        "Cette technique sera réemployée plusieurs fois dans ce document."
      ]
    },
    {
      "cell_type": "markdown",
      "id": "37be8248-0209-4f0f-9de5-b4a4cf36fd7c",
      "metadata": {},
      "source": [
        "### Parcours en largeur d'abord\n",
        "L'algorithme présenté ci-dessous est **itératif**. \n",
        "\n",
        "Il utilise une **file** pour stocker les sommets à visiter.\n",
        "\n",
        "On rappelle qu'une file a essentiellement deux méthodes:\n",
        "\n",
        "- enfiler : ajouter un élément **en queue**\n",
        "- défiler : retirer un élément **en tête**\n",
        "\n",
        "Algorithme\n",
        "\n",
        "\n",
        "> $gr$ est un graphe orienté représenté par listes de successeurs\n",
        "> \n",
        "> $dejavu$ est un ensemble de sommets initialement vide\n",
        ">\n",
        "> $file$ est une file de sommets initialement vide\n",
        ">\n",
        "> **Procédure** parcourLarg($gr$, $depart$):\n",
        "> > $s$, $t$ désignent des sommets\n",
        "> > \n",
        "> > Ajouter $depart$ à l'ensemble $dejavu$\n",
        "> >\n",
        "> > Enfiler $depart$ dans $file$\n",
        "> >\n",
        "> > Tant que $file$ n'est pas vide:\n",
        "> >\n",
        "> > > Défiler $file$ et récupérer l'élément sorti dans la variable $s$\n",
        "> > >\n",
        "> > > Pour chaque sommet $t$ successeur de $s$ faire:\n",
        "> > >\n",
        "> > > > Si $t$ n'est pas dans $dejavu$:\n",
        "> > > >\n",
        "> > > > > Ajouter $t$ à l'ensemble $dejavu$\n",
        "> > > > >\n",
        "> > > > > Enfiler $t$ dans $file$\n",
        "> > > > >\n",
        "> > > > > Traiter le sommet $t$\n",
        "\n"
      ]
    },
    {
      "cell_type": "code",
      "execution_count": 46,
      "id": "f17b548a-db4b-4a8d-9faa-a8c6d29f87dd",
      "metadata": {
        "trusted": true
      },
      "outputs": [],
      "source": [
        "def parcoursEnLargeur(gr, depart):\n",
        "    \"\"\"\n",
        "    Renvoie la liste des sommets accessibles depuis le sommet depart dans le graphe gr.\n",
        "    Parcours en largeur d'abord.\n",
        "    >>> g ={\n",
        "    \"a\": [\"a\", \"d\"],\n",
        "    \"b\": [\"c\"],\n",
        "    \"c\": [\"d\", \"e\"],\n",
        "    \"d\": [\"a\", \"c\"],\n",
        "    \"e\": [\"c\"],\n",
        "    \"f\": [\"a\"],\n",
        "    }\n",
        "    >>> parcoursEnLargeur(g, \"f\")\n",
        "    ['f', 'a', 'd', 'c', 'e']\n",
        "    >>> parcoursEnLargeur(g, \"c\")\n",
        "    ['c', 'd', 'e', 'a']\n",
        "    \"\"\"\n",
        "    dejavu = set(depart)\n",
        "    liste = [depart]\n",
        "    file = [depart]\n",
        "    while file:\n",
        "        sommet = file.pop(0)\n",
        "        for s in gr[sommet]:\n",
        "            if s not in dejavu:\n",
        "                liste.append(s)\n",
        "                file.append(s)\n",
        "                dejavu.add(s)\n",
        "    return liste"
      ]
    },
    {
      "cell_type": "code",
      "execution_count": 48,
      "id": "2bc1df04-905e-4099-bf6f-d838f7e6d4b9",
      "metadata": {
        "trusted": true
      },
      "outputs": [
        {
          "data": {
            "text/plain": [
              "['A', 'B', 'F', 'C', 'G', 'K', 'D', 'H', 'L', 'E', 'I', 'M', 'J', 'N', 'O']"
            ]
          },
          "execution_count": 48,
          "metadata": {},
          "output_type": "execute_result"
        }
      ],
      "source": [
        "parcoursEnLargeur(gr3par5,\"A\")"
      ]
    },
    {
      "cell_type": "markdown",
      "id": "24b66d5d-029d-476e-a5c4-cebdd7808d6f",
      "metadata": {},
      "source": [
        "### Repérer un cycle\n",
        "\n",
        "On traite ici seulement le cas des graphes orientés.\n",
        "\n",
        "L'idée est d'adapter l'algorithme de parcours en profondeur d'abord en gardant trace du chemin emprunté.\n",
        "Si ce chemin revient sur un sommet déjà visité, un est en présence d'un circuit.\n",
        "\n",
        "Comme on n'est pas sûr de pouvoir aller partout dans le graphe à partir de n'importe quel sommet de départ[^1], il faut répéter l'opération en prenant chaque sommet du graphe comme départ. \n",
        "\n",
        "[^1]: On dit alors que le graphe n'est pas fortement connexe."
      ]
    },
    {
      "cell_type": "code",
      "execution_count": 49,
      "id": "c6efe529-916f-44e2-b762-52a69ed5f40e",
      "metadata": {
        "trusted": true
      },
      "outputs": [],
      "source": [
        "# Adapté à partir de :\n",
        "# https://www.geeksforgeeks.org/detect-cycle-in-a-graph/\n",
        "\n",
        "def aUnCircuit(gr):\n",
        "    dejavu = []\n",
        "    pile = [] \n",
        "\n",
        "    def parcoursRecursif(gr, s):\n",
        "        if s not in dejavu:\n",
        "            dejavu.append(s)\n",
        "            pile.append(s)\n",
        "            for x in gr[s]:\n",
        "                if x not in dejavu and parcoursRecursif(gr, x):\n",
        "                    return True\n",
        "                elif x in pile:\n",
        "                    return True\n",
        "        pile.pop() \n",
        "        return False\n",
        "    \n",
        "    for s in gr:\n",
        "        if s not in dejavu and parcoursRecursif(gr, s):\n",
        "            return True\n",
        "    return False\n"
      ]
    },
    {
      "cell_type": "code",
      "execution_count": null,
      "id": "4331990c",
      "metadata": {},
      "outputs": [
        {
          "data": {
            "text/plain": [
              "False"
            ]
          },
          "metadata": {},
          "output_type": "display_data"
        }
      ],
      "source": [
        "aUnCircuit(gr3par5)"
      ]
    },
    {
      "cell_type": "code",
      "execution_count": null,
      "id": "f3efb4df",
      "metadata": {},
      "outputs": [
        {
          "data": {
            "text/plain": [
              "False"
            ]
          },
          "metadata": {},
          "output_type": "display_data"
        }
      ],
      "source": [
        "aUnCircuit({\"a\": [\"b\"], \"b\": []})"
      ]
    },
    {
      "cell_type": "code",
      "execution_count": null,
      "id": "84fa5f50",
      "metadata": {},
      "outputs": [
        {
          "data": {
            "text/plain": [
              "True"
            ]
          },
          "metadata": {},
          "output_type": "display_data"
        }
      ],
      "source": [
        "aUnCircuit({\"a\": [\"b\"], \"b\": [\"a\"]})"
      ]
    },
    {
      "cell_type": "code",
      "execution_count": null,
      "id": "8b4a373c",
      "metadata": {},
      "outputs": [
        {
          "data": {
            "text/plain": [
              "True"
            ]
          },
          "metadata": {},
          "output_type": "display_data"
        }
      ],
      "source": [
        "aUnCircuit({\"a\": [\"a\"]})"
      ]
    },
    {
      "cell_type": "code",
      "execution_count": null,
      "id": "b5ab8f18",
      "metadata": {},
      "outputs": [
        {
          "data": {
            "text/plain": [
              "False"
            ]
          },
          "metadata": {},
          "output_type": "display_data"
        }
      ],
      "source": [
        "aUnCircuit({})"
      ]
    },
    {
      "cell_type": "markdown",
      "id": "5fff172d-6d88-4141-b420-6421811f0fa4",
      "metadata": {},
      "source": [
        "### Chercher un chemin entre deux sommets\n",
        "Le problème consiste à trouver un chemin (s'il existe) entre un sommet de départ $s_1$ et un sommet d'arrivée $s_2$.\n",
        "\n",
        "On ne se préoccupe pas de trouver tous les chemins, ni forcément le plus court. \n",
        "\n",
        "Le principe est celui du **retour arrière** ou *backtracking*.\n",
        "\n",
        "On explore le graphe en revenant en arrière si on arrive dans un cul-de-sac. Pour cela, la récursivité est l'outil naturel.\n",
        "\n",
        "Il faut aussi éviter les boucles infinies: pour cela on évitera de passer deux fois au même endroit en mémorisant le chemin parcouru jusque là et en vérifiant que le nouvevau sommet envisagé n'est pas déjà présent dans notre chemin.\n",
        "\n",
        "La procédure ci-dessous affiche tous les chemins (sans circuit) possibles entre un sommet $s_1$ de départ et un sommet d'arrivée $s_2$.\n",
        "\n",
        "Elle ne fonctionne que pour $s_1 \\neq s_2$. "
      ]
    },
    {
      "cell_type": "code",
      "execution_count": 101,
      "id": "f8c787cd-260a-4a96-87f9-62cabe847ae3",
      "metadata": {
        "trusted": true
      },
      "outputs": [],
      "source": [
        "def chercheChemin(gr, s1, s2):\n",
        "    \"\"\"\n",
        "    Affiche tous les chemins possibles de s1 à s2 dans le graphe gr.\n",
        "    Ne fonctionne que pour s1 ≠ s2\n",
        "    \"\"\"\n",
        "    def parcoursRecursif(s, chemin, trouve=False):\n",
        "        if not trouve:\n",
        "            for t in gr[s]:\n",
        "                if t not in chemin:\n",
        "                    if t != s2:\n",
        "                        parcoursRecursif(t, chemin+[t], trouve)\n",
        "                    else:\n",
        "                        print(chemin+[t])\n",
        "                        trouve = True\n",
        "    parcoursRecursif(s1, [s1], False)"
      ]
    },
    {
      "cell_type": "code",
      "execution_count": 102,
      "id": "43a2e00e-5220-4b9e-ac2e-9a86845900b9",
      "metadata": {
        "trusted": true
      },
      "outputs": [
        {
          "name": "stdout",
          "output_type": "stream",
          "text": [
            "['a', 'd', 'c', 'e']\n"
          ]
        }
      ],
      "source": [
        "chercheChemin(g, \"a\", \"e\")"
      ]
    },
    {
      "cell_type": "code",
      "execution_count": 103,
      "id": "36b40261-6ff8-4a87-820a-8385f070e610",
      "metadata": {
        "trusted": true
      },
      "outputs": [
        {
          "name": "stdout",
          "output_type": "stream",
          "text": [
            "['e', 'c', 'd', 'a']\n"
          ]
        }
      ],
      "source": [
        "chercheChemin(g, \"e\", \"a\")"
      ]
    },
    {
      "cell_type": "code",
      "execution_count": 104,
      "id": "64857632-eff3-4516-aa00-8736abbcce51",
      "metadata": {
        "scrolled": true,
        "trusted": true
      },
      "outputs": [],
      "source": [
        "chercheChemin(g, \"a\", \"f\")"
      ]
    },
    {
      "cell_type": "code",
      "execution_count": 106,
      "id": "17d6eb00-fdcb-4e4f-92b0-174cf30d4130",
      "metadata": {
        "trusted": true
      },
      "outputs": [
        {
          "name": "stdout",
          "output_type": "stream",
          "text": [
            "['A', 'B', 'C', 'D']\n"
          ]
        }
      ],
      "source": [
        "chercheChemin(gr3par5, \"A\", \"D\")"
      ]
    },
    {
      "cell_type": "code",
      "execution_count": 107,
      "id": "ef6db3f0-898d-4961-8e6b-20dfa03e1c49",
      "metadata": {
        "trusted": true
      },
      "outputs": [
        {
          "name": "stdout",
          "output_type": "stream",
          "text": [
            "['D', 'E', 'J', 'O']\n",
            "['D', 'I', 'J', 'O']\n",
            "['D', 'I', 'N', 'O']\n"
          ]
        }
      ],
      "source": [
        "chercheChemin(gr3par5, \"D\", \"O\")"
      ]
    },
    {
      "cell_type": "code",
      "execution_count": 109,
      "id": "255335d8-745b-4401-a2f8-0e32db556955",
      "metadata": {
        "scrolled": true,
        "trusted": true
      },
      "outputs": [
        {
          "name": "stdout",
          "output_type": "stream",
          "text": [
            "['A', 'B', 'C', 'D', 'I']\n",
            "['A', 'B', 'C', 'H', 'I']\n",
            "['A', 'B', 'G', 'H', 'I']\n",
            "['A', 'F', 'G', 'H', 'I']\n"
          ]
        }
      ],
      "source": [
        "chercheChemin(gr3par5, \"A\", \"I\")"
      ]
    },
    {
      "cell_type": "markdown",
      "id": "634ab607-d072-4fb1-9f43-1ec3acd19de2",
      "metadata": {},
      "source": [
        "## Tests"
      ]
    },
    {
      "cell_type": "markdown",
      "id": "5a783899-a7cb-4452-8384-d6b1d5a18c54",
      "metadata": {},
      "source": [
        "### Utilisation d'une classe `Graphe`\n"
      ]
    },
    {
      "cell_type": "markdown",
      "id": "64a4091b-64a6-468c-be2c-770674c95edc",
      "metadata": {},
      "source": [
        "### Trouver tous les chemins d'une longueur donnée partant d'un sommet"
      ]
    },
    {
      "cell_type": "code",
      "execution_count": 50,
      "id": "865dd892-57d7-44b3-890d-bde4861c7940",
      "metadata": {
        "trusted": true
      },
      "outputs": [],
      "source": [
        "# les chemins de longueur 1 au depart de x sont formés des chaines [x, s] avec s successeur de x\n",
        "# Les chemins de longueur 2 au depart de x sont formés des ch de long 1 prolongés par les successeurs des extrémités des susdits\n",
        "# ...\n",
        "\n",
        "def cheminsDeLongueur(gr, depart, longueur):\n",
        "    if longueur == 0:\n",
        "        return [[depart]]\n",
        "    else:\n",
        "        listeChemins = cheminsDeLongueur(gr, depart, longueur - 1)\n",
        "        return [ chemin + [s] for chemin in listeChemins for s in gr[chemin[-1]] ]   "
      ]
    },
    {
      "cell_type": "markdown",
      "id": "9fec5816-6627-46dc-ac9f-4221d0194f83",
      "metadata": {},
      "source": [
        "### Trouver tous les chemins sans cycle en partant d'un sommet"
      ]
    },
    {
      "cell_type": "code",
      "execution_count": 51,
      "id": "06544c8e-9b48-4cd5-b8df-169d385f9e36",
      "metadata": {
        "trusted": true
      },
      "outputs": [],
      "source": [
        "# ! nononon marche pas : oublie des chemins\n",
        "def cheminsSansCycle(gr, depart):\n",
        "    \"\"\"Renvoie la liste des chemins possibles depuis le sommet depart dans le graphe gr.\n",
        "        Parcours en largeur d'abord.\n",
        "        Version récursive.\n",
        "        \"\"\"\n",
        "    dejavu = set(depart)\n",
        "    liste = [[depart]]\n",
        "    \n",
        "    def cheminsSommetPasDejaVu(longueur):\n",
        "        if longueur == 0:\n",
        "            return [[depart]]\n",
        "        else:\n",
        "            listeChemins = cheminsSommetPasDejaVu(longueur - 1) \n",
        "            for chemin in listeChemins:\n",
        "                for s in gr[chemin[-1]]:\n",
        "                    if s not in dejavu:\n",
        "                        dejavu.add(s)\n",
        "                        liste.append(chemin + [s])\n",
        "            return liste\n",
        "    return cheminsSommetPasDejaVu(len(g)-1) # un chemin sans cycle dans un graphe à n sommets est au plus de longueur n-1"
      ]
    },
    {
      "cell_type": "code",
      "execution_count": 52,
      "id": "9382f782-4cac-428e-8855-0e3acf131ad1",
      "metadata": {
        "trusted": true
      },
      "outputs": [
        {
          "data": {
            "text/plain": [
              "[['a'], ['a', 'd'], ['a', 'd', 'c'], ['a', 'd', 'c', 'e']]"
            ]
          },
          "execution_count": 52,
          "metadata": {},
          "output_type": "execute_result"
        }
      ],
      "source": [
        "cheminsSansCycle(g, \"a\")"
      ]
    },
    {
      "cell_type": "code",
      "execution_count": 53,
      "id": "a8a9c0a6-9e01-4ff4-87d0-612bfe4472ad",
      "metadata": {
        "trusted": true
      },
      "outputs": [
        {
          "data": {
            "text/plain": [
              "[['d'], ['d', 'a'], ['d', 'c'], ['d', 'c', 'e']]"
            ]
          },
          "execution_count": 53,
          "metadata": {},
          "output_type": "execute_result"
        }
      ],
      "source": [
        "cheminsSansCycle(g, \"d\") "
      ]
    },
    {
      "cell_type": "code",
      "execution_count": 54,
      "id": "1f27c9a9-1972-4d96-9885-4933489f1e03",
      "metadata": {
        "trusted": true
      },
      "outputs": [
        {
          "data": {
            "text/plain": [
              "[['c'], ['c', 'd'], ['c', 'e'], ['c', 'd', 'a']]"
            ]
          },
          "execution_count": 54,
          "metadata": {},
          "output_type": "execute_result"
        }
      ],
      "source": [
        "cheminsSansCycle(g, \"c\")"
      ]
    },
    {
      "cell_type": "code",
      "execution_count": 55,
      "id": "b483ce69-1795-4282-8d9a-8bad8aa8ba9b",
      "metadata": {
        "trusted": true
      },
      "outputs": [
        {
          "data": {
            "text/plain": [
              "[['A'],\n",
              " ['A', 'B'],\n",
              " ['A', 'F'],\n",
              " ['A', 'B', 'C'],\n",
              " ['A', 'B', 'G'],\n",
              " ['A', 'F', 'K'],\n",
              " ['A', 'B', 'C', 'D'],\n",
              " ['A', 'B', 'C', 'H'],\n",
              " ['A', 'B', 'G', 'L'],\n",
              " ['A', 'B', 'C', 'D', 'E'],\n",
              " ['A', 'B', 'C', 'D', 'I'],\n",
              " ['A', 'B', 'C', 'H', 'M'],\n",
              " ['A', 'B', 'C', 'D', 'E', 'J'],\n",
              " ['A', 'B', 'C', 'D', 'I', 'N'],\n",
              " ['A', 'B', 'C', 'D', 'E', 'J', 'O']]"
            ]
          },
          "execution_count": 55,
          "metadata": {},
          "output_type": "execute_result"
        }
      ],
      "source": [
        "cheminsSansCycle(gr3par5, \"A\")"
      ]
    },
    {
      "cell_type": "code",
      "execution_count": 56,
      "id": "bd140c87",
      "metadata": {
        "trusted": true
      },
      "outputs": [],
      "source": [
        "g ={\n",
        "    \"a\": [\"a\", \"d\"],\n",
        "    \"b\": [\"c\"],\n",
        "    \"c\": [\"d\", \"e\"],\n",
        "    \"d\": [\"a\", \"c\"],\n",
        "    \"e\": [\"c\"],\n",
        "    \"f\": [\"a\"],\n",
        "}\n",
        "a = dicVersMat(g)"
      ]
    },
    {
      "cell_type": "code",
      "execution_count": 57,
      "id": "cb05226e-9d6a-48f8-ace7-1fee5178381c",
      "metadata": {
        "trusted": true
      },
      "outputs": [
        {
          "data": {
            "text/plain": [
              "[[1, 0, 0, 1, 0, 0],\n",
              " [0, 0, 1, 0, 0, 0],\n",
              " [0, 0, 0, 1, 1, 0],\n",
              " [1, 0, 1, 0, 0, 0],\n",
              " [0, 0, 1, 0, 0, 0],\n",
              " [1, 0, 0, 0, 0, 0]]"
            ]
          },
          "execution_count": 57,
          "metadata": {},
          "output_type": "execute_result"
        }
      ],
      "source": [
        "a "
      ]
    },
    {
      "cell_type": "code",
      "execution_count": 58,
      "id": "6ae5fefc-f356-44d4-a00a-58d7102f5641",
      "metadata": {
        "trusted": true
      },
      "outputs": [
        {
          "data": {
            "text/plain": [
              "{0: [0, 3], 1: [2], 2: [3, 4], 3: [0, 2], 4: [2], 5: [0]}"
            ]
          },
          "execution_count": 58,
          "metadata": {},
          "output_type": "execute_result"
        }
      ],
      "source": [
        "matVersDic(a)"
      ]
    },
    {
      "cell_type": "code",
      "execution_count": 59,
      "id": "d974baf8",
      "metadata": {
        "trusted": true
      },
      "outputs": [
        {
          "data": {
            "text/plain": [
              "[[1, 0, 0, 1, 0, 0],\n",
              " [0, 0, 1, 0, 0, 0],\n",
              " [0, 0, 0, 1, 1, 0],\n",
              " [1, 0, 1, 0, 0, 0],\n",
              " [0, 0, 1, 0, 0, 0],\n",
              " [1, 0, 0, 0, 0, 0]]"
            ]
          },
          "execution_count": 59,
          "metadata": {},
          "output_type": "execute_result"
        }
      ],
      "source": [
        "dicVersMat(matVersDic(a))"
      ]
    },
    {
      "cell_type": "code",
      "execution_count": null,
      "id": "86b7d196-bbf1-48d6-803c-677fe2376131",
      "metadata": {
        "trusted": true
      },
      "outputs": [],
      "source": []
    },
    {
      "cell_type": "code",
      "execution_count": 60,
      "id": "bade9494-4edf-4119-9848-21a02610a1b5",
      "metadata": {
        "trusted": true
      },
      "outputs": [
        {
          "name": "stdout",
          "output_type": "stream",
          "text": [
            "[['a']]\n",
            "[['a', 'a'], ['a', 'd']]\n",
            "[['a', 'a', 'a'], ['a', 'a', 'd'], ['a', 'd', 'a'], ['a', 'd', 'c']]\n",
            "[['a', 'a', 'a', 'a'], ['a', 'a', 'a', 'd'], ['a', 'a', 'd', 'a'], ['a', 'a', 'd', 'c'], ['a', 'd', 'a', 'a'], ['a', 'd', 'a', 'd'], ['a', 'd', 'c', 'd'], ['a', 'd', 'c', 'e']]\n",
            "[['a', 'a', 'a', 'a', 'a'], ['a', 'a', 'a', 'a', 'd'], ['a', 'a', 'a', 'd', 'a'], ['a', 'a', 'a', 'd', 'c'], ['a', 'a', 'd', 'a', 'a'], ['a', 'a', 'd', 'a', 'd'], ['a', 'a', 'd', 'c', 'd'], ['a', 'a', 'd', 'c', 'e'], ['a', 'd', 'a', 'a', 'a'], ['a', 'd', 'a', 'a', 'd'], ['a', 'd', 'a', 'd', 'a'], ['a', 'd', 'a', 'd', 'c'], ['a', 'd', 'c', 'd', 'a'], ['a', 'd', 'c', 'd', 'c'], ['a', 'd', 'c', 'e', 'c']]\n",
            "[['a', 'a', 'a', 'a', 'a', 'a'], ['a', 'a', 'a', 'a', 'a', 'd'], ['a', 'a', 'a', 'a', 'd', 'a'], ['a', 'a', 'a', 'a', 'd', 'c'], ['a', 'a', 'a', 'd', 'a', 'a'], ['a', 'a', 'a', 'd', 'a', 'd'], ['a', 'a', 'a', 'd', 'c', 'd'], ['a', 'a', 'a', 'd', 'c', 'e'], ['a', 'a', 'd', 'a', 'a', 'a'], ['a', 'a', 'd', 'a', 'a', 'd'], ['a', 'a', 'd', 'a', 'd', 'a'], ['a', 'a', 'd', 'a', 'd', 'c'], ['a', 'a', 'd', 'c', 'd', 'a'], ['a', 'a', 'd', 'c', 'd', 'c'], ['a', 'a', 'd', 'c', 'e', 'c'], ['a', 'd', 'a', 'a', 'a', 'a'], ['a', 'd', 'a', 'a', 'a', 'd'], ['a', 'd', 'a', 'a', 'd', 'a'], ['a', 'd', 'a', 'a', 'd', 'c'], ['a', 'd', 'a', 'd', 'a', 'a'], ['a', 'd', 'a', 'd', 'a', 'd'], ['a', 'd', 'a', 'd', 'c', 'd'], ['a', 'd', 'a', 'd', 'c', 'e'], ['a', 'd', 'c', 'd', 'a', 'a'], ['a', 'd', 'c', 'd', 'a', 'd'], ['a', 'd', 'c', 'd', 'c', 'd'], ['a', 'd', 'c', 'd', 'c', 'e'], ['a', 'd', 'c', 'e', 'c', 'd'], ['a', 'd', 'c', 'e', 'c', 'e']]\n"
          ]
        }
      ],
      "source": [
        "for i in range(6):\n",
        "    print(cheminsDeLongueur(g, \"a\", i))\n"
      ]
    },
    {
      "cell_type": "code",
      "execution_count": 61,
      "id": "fd2d8909-6037-45ad-968b-dbae7c83aec3",
      "metadata": {
        "trusted": true
      },
      "outputs": [
        {
          "name": "stdout",
          "output_type": "stream",
          "text": [
            "[['d', 'a', 'a', 'a'], ['d', 'a', 'a', 'd'], ['d', 'a', 'd', 'a'], ['d', 'a', 'd', 'c'], ['d', 'c', 'd', 'a'], ['d', 'c', 'd', 'c'], ['d', 'c', 'e', 'c']]\n"
          ]
        }
      ],
      "source": [
        "print(cheminsDeLongueur(g, \"d\", 3))"
      ]
    },
    {
      "cell_type": "code",
      "execution_count": 62,
      "id": "2ff789ae-1193-4171-bb8c-772119fc226a",
      "metadata": {
        "trusted": true
      },
      "outputs": [
        {
          "name": "stdout",
          "output_type": "stream",
          "text": [
            "True\n",
            "False\n",
            "False\n",
            "False\n",
            "False\n",
            "\n"
          ]
        }
      ],
      "source": [
        "def aUnCircuit2(gr):\n",
        "    # tentative sans pile MARCHE PAS\n",
        "    dejavu = []\n",
        "    \n",
        "    def parcoursRecursif(gr, s, pile):\n",
        "        if s not in dejavu:\n",
        "            dejavu.append(s)\n",
        "            for x in gr[s]:\n",
        "                np = pile.copy()\n",
        "                np.append(x)\n",
        "                if x not in dejavu and parcoursRecursif(gr, x, np):\n",
        "                    return True\n",
        "                elif x in pile:\n",
        "                    return True\n",
        "        return False\n",
        "    \n",
        "    for s in gr:\n",
        "        if s not in dejavu and parcoursRecursif(gr, s, []):\n",
        "            return True\n",
        "    return False\n",
        "\n",
        "         \n",
        "print(aUnCircuit2(g))\n",
        "\n",
        "print(aUnCircuit2(gr3par5))\n",
        "    \n",
        "print(aUnCircuit2({\"a\": [\"b\"], \"b\": []}))\n",
        "\n",
        "print(aUnCircuit2({\"a\": [\"b\"], \"b\": [\"a\"]}))\n",
        "\n",
        "print(aUnCircuit2({\"a\": [\"a\"]}))\n",
        "\n",
        "print(\n",
        "    )\n"
      ]
    },
    {
      "cell_type": "code",
      "execution_count": 63,
      "id": "a7c9e2b9-8494-4409-aa86-69f1d78020ee",
      "metadata": {
        "trusted": true
      },
      "outputs": [
        {
          "data": {
            "text/plain": [
              "True"
            ]
          },
          "execution_count": 63,
          "metadata": {},
          "output_type": "execute_result"
        }
      ],
      "source": [
        "aUnCircuit(g)"
      ]
    },
    {
      "cell_type": "code",
      "execution_count": 69,
      "id": "36482d09-fb39-47ec-a85c-93d865d1b5c4",
      "metadata": {
        "trusted": true
      },
      "outputs": [
        {
          "data": {
            "text/plain": [
              "['H', 'I', 'J', 'O', 'N', 'M']"
            ]
          },
          "execution_count": 69,
          "metadata": {},
          "output_type": "execute_result"
        }
      ],
      "source": [
        "parcoursEnProfondeur(gr3par5,\"H\")"
      ]
    },
    {
      "cell_type": "code",
      "execution_count": 70,
      "id": "8b526451-5dac-4605-b7a9-3080b37562df",
      "metadata": {
        "trusted": true
      },
      "outputs": [
        {
          "ename": "<class 'UnboundLocalError'>",
          "evalue": "cannot access local variable 'a' where it is not associated with a value",
          "output_type": "error",
          "traceback": [
            "\u001b[0;31m---------------------------------------------------------------------------\u001b[0m",
            "\u001b[0;31mUnboundLocalError\u001b[0m                         Traceback (most recent call last)",
            "Cell \u001b[0;32mIn[70], line 15\u001b[0m\n\u001b[1;32m     12\u001b[0m         \u001b[38;5;28;01mreturn\u001b[39;00m a\n\u001b[1;32m     13\u001b[0m     récu(s1,[s1])\n\u001b[0;32m---> 15\u001b[0m \u001b[38;5;28mprint\u001b[39m(\u001b[43mchercheChemin\u001b[49m\u001b[43m(\u001b[49m\u001b[43mgr3par5\u001b[49m\u001b[43m,\u001b[49m\u001b[43m \u001b[49m\u001b[38;5;124;43m\"\u001b[39;49m\u001b[38;5;124;43mA\u001b[39;49m\u001b[38;5;124;43m\"\u001b[39;49m\u001b[43m,\u001b[49m\u001b[43m \u001b[49m\u001b[38;5;124;43m\"\u001b[39;49m\u001b[38;5;124;43mH\u001b[39;49m\u001b[38;5;124;43m\"\u001b[39;49m\u001b[43m)\u001b[49m)\n\u001b[1;32m     16\u001b[0m \u001b[38;5;66;03m#trouveChemin(gr3par5, \"A\", \"K\")\u001b[39;00m\n\u001b[1;32m     17\u001b[0m \u001b[38;5;66;03m#trouveChemin(g, \"a\", \"d\")\u001b[39;00m\n\u001b[1;32m     18\u001b[0m \u001b[38;5;66;03m#trouveChemin(g, \"a\", \"e\")      \u001b[39;00m\n",
            "Cell \u001b[0;32mIn[70], line 13\u001b[0m, in \u001b[0;36mchercheChemin\u001b[0;34m(gr, s1, s2)\u001b[0m\n\u001b[1;32m     10\u001b[0m                 a \u001b[38;5;241m=\u001b[39m \u001b[38;5;28;01mTrue\u001b[39;00m\n\u001b[1;32m     12\u001b[0m     \u001b[38;5;28;01mreturn\u001b[39;00m a\n\u001b[0;32m---> 13\u001b[0m \u001b[43mrécu\u001b[49m\u001b[43m(\u001b[49m\u001b[43ms1\u001b[49m\u001b[43m,\u001b[49m\u001b[43m[\u001b[49m\u001b[43ms1\u001b[49m\u001b[43m]\u001b[49m\u001b[43m)\u001b[49m\n",
            "Cell \u001b[0;32mIn[70], line 5\u001b[0m, in \u001b[0;36mchercheChemin.<locals>.récu\u001b[0;34m(s, chemin)\u001b[0m\n\u001b[1;32m      3\u001b[0m \u001b[38;5;28;01mdef\u001b[39;00m \u001b[38;5;21mrécu\u001b[39m(s, chemin):\n\u001b[1;32m      4\u001b[0m     \u001b[38;5;28;01mfor\u001b[39;00m t \u001b[38;5;129;01min\u001b[39;00m gr[s1]:\n\u001b[0;32m----> 5\u001b[0m         \u001b[38;5;28;01mif\u001b[39;00m t \u001b[38;5;129;01mnot\u001b[39;00m \u001b[38;5;129;01min\u001b[39;00m chemin \u001b[38;5;129;01mand\u001b[39;00m \u001b[38;5;129;01mnot\u001b[39;00m \u001b[43ma\u001b[49m:\n\u001b[1;32m      6\u001b[0m             \u001b[38;5;28;01mif\u001b[39;00m t \u001b[38;5;241m!=\u001b[39m s2:\n\u001b[1;32m      7\u001b[0m                 récu(t, chemin\u001b[38;5;241m+\u001b[39m[t])\n",
            "\u001b[0;31mUnboundLocalError\u001b[0m: cannot access local variable 'a' where it is not associated with a value"
          ]
        }
      ],
      "source": [
        "def chercheChemin(gr, s1, s2):\n",
        "    a = False      # je deviens dingue là\n",
        "    def récu(s, chemin):\n",
        "        for t in gr[s1]:\n",
        "            if t not in chemin and not a:\n",
        "                if t != s2:\n",
        "                    récu(t, chemin+[t])\n",
        "                else:\n",
        "                    print(chemin+[t])\n",
        "                    a = True\n",
        "                    \n",
        "        return a\n",
        "    récu(s1,[s1])\n",
        "    \n",
        "print(chercheChemin(gr3par5, \"A\", \"H\"))\n",
        "#trouveChemin(gr3par5, \"A\", \"K\")\n",
        "#trouveChemin(g, \"a\", \"d\")\n",
        "#trouveChemin(g, \"a\", \"e\")      \n",
        "        \n",
        "    "
      ]
    },
    {
      "cell_type": "code",
      "execution_count": 79,
      "id": "f7c8b75f-833f-4d1e-b28a-94244d6c8907",
      "metadata": {
        "trusted": true
      },
      "outputs": [
        {
          "name": "stdout",
          "output_type": "stream",
          "text": [
            "['A', 'B', 'C', 'H']\n",
            "['A', 'B', 'G', 'H']\n",
            "['A', 'F', 'G', 'H']\n"
          ]
        },
        {
          "data": {
            "text/plain": [
              "False"
            ]
          },
          "execution_count": 79,
          "metadata": {},
          "output_type": "execute_result"
        }
      ],
      "source": [
        "def cc(gr, s1, s2, chemin, trouve = False):\n",
        "    if not trouve:\n",
        "        for t in gr[s1]:\n",
        "            if t not in chemin:\n",
        "                if t != s2:\n",
        "                    cc(gr, t, s2, chemin+[t])\n",
        "                else:\n",
        "                    print(chemin+[t])\n",
        "                    trouve = True\n",
        "                    \n",
        "    return trouve\n",
        "\n",
        "cc(gr3par5, \"A\", \"H\", [\"A\"])\n",
        "    "
      ]
    },
    {
      "cell_type": "code",
      "execution_count": 100,
      "id": "bb130c09-b123-4fc4-afb3-8cfa7ceea6d3",
      "metadata": {
        "trusted": true
      },
      "outputs": [
        {
          "name": "stdout",
          "output_type": "stream",
          "text": [
            "['A', 'B', 'C', 'H']\n",
            "['A', 'B', 'G', 'H']\n",
            "['A', 'F', 'G', 'H']\n"
          ]
        }
      ],
      "source": [
        "def ch(gr, s1, s2):\n",
        "    def recu(s, chemin, trouve=False):\n",
        "        if not trouve:\n",
        "            for t in gr[s]:\n",
        "                if t not in chemin:\n",
        "                    if t != s2:\n",
        "                        recu(t, chemin+[t], trouve)\n",
        "                    else:\n",
        "                        print(chemin+[t])\n",
        "                        trouve = True\n",
        "    recu(s1, [s1], False)                    \n",
        "\n",
        "\n",
        "ch(gr3par5, \"A\", \"H\")"
      ]
    },
    {
      "cell_type": "code",
      "execution_count": 94,
      "id": "585b6103-1eb3-4866-b8f8-4ccf0f66b45c",
      "metadata": {
        "trusted": true
      },
      "outputs": [],
      "source": [
        "ch(gr3par5, \"N\", \"B\")"
      ]
    },
    {
      "cell_type": "code",
      "execution_count": 95,
      "id": "5b2853d2-dcfe-4058-a6f9-7357cf572f62",
      "metadata": {
        "trusted": true
      },
      "outputs": [
        {
          "name": "stdout",
          "output_type": "stream",
          "text": [
            "['f', 'a', 'd', 'c']\n"
          ]
        }
      ],
      "source": [
        "ch(g, \"f\", \"c\")"
      ]
    },
    {
      "cell_type": "code",
      "execution_count": 96,
      "id": "c882832c-56e3-49a9-b9e7-d79ce0c7567b",
      "metadata": {
        "trusted": true
      },
      "outputs": [
        {
          "name": "stdout",
          "output_type": "stream",
          "text": [
            "['a', 'd', 'c', 'e']\n"
          ]
        }
      ],
      "source": [
        "ch(g, \"a\", \"e\")"
      ]
    },
    {
      "cell_type": "code",
      "execution_count": 97,
      "id": "372bbde1-e532-4149-83e2-f8d0281ad3a4",
      "metadata": {
        "trusted": true
      },
      "outputs": [],
      "source": [
        "ch(g, \"a\", \"a\")"
      ]
    },
    {
      "cell_type": "code",
      "execution_count": 75,
      "id": "155d5690-b838-4ac6-a531-32c4511a953f",
      "metadata": {
        "trusted": true
      },
      "outputs": [
        {
          "name": "stdout",
          "output_type": "stream",
          "text": [
            "11\n"
          ]
        }
      ],
      "source": [
        "a=5\n",
        "def f(x):\n",
        "    return a+x\n",
        "\n",
        "print (f(6))\n",
        "    "
      ]
    },
    {
      "cell_type": "code",
      "execution_count": 76,
      "id": "87567cdb-0b65-49d8-bf4a-72a373833a7c",
      "metadata": {
        "trusted": true
      },
      "outputs": [
        {
          "name": "stdout",
          "output_type": "stream",
          "text": [
            "oui oui a=2020\n",
            "a=2020\n",
            "2026\n"
          ]
        }
      ],
      "source": [
        "def f(x):\n",
        "    a=2020\n",
        "    def fa(x):\n",
        "        if a == 2020:\n",
        "            print(f'a={a}')\n",
        "        return a+x\n",
        "    print(f'oui oui a={a}')\n",
        "    return fa(x)\n",
        "\n",
        "print (f(6))"
      ]
    },
    {
      "cell_type": "code",
      "execution_count": 77,
      "id": "861abbb5-bd77-4a69-9e21-27e6e96e45d3",
      "metadata": {
        "trusted": true
      },
      "outputs": [
        {
          "name": "stdout",
          "output_type": "stream",
          "text": [
            "oui oui a=False\n",
            "False\n"
          ]
        }
      ],
      "source": [
        "def f(x):\n",
        "    a=False\n",
        "    def fa(x):\n",
        "        if a :\n",
        "            print(f'a={a}')\n",
        "        return a\n",
        "    print(f'oui oui a={a}')\n",
        "    return fa(x)\n",
        "\n",
        "print (f(6))"
      ]
    },
    {
      "cell_type": "code",
      "execution_count": null,
      "id": "6937154a-44f3-4d3b-b71f-8047d65062b6",
      "metadata": {
        "trusted": true
      },
      "outputs": [],
      "source": []
    },
    {
      "cell_type": "code",
      "execution_count": null,
      "id": "746e4bfd-1598-44d2-a996-3fbb61d602a0",
      "metadata": {
        "trusted": true
      },
      "outputs": [],
      "source": []
    }
  ],
  "metadata": {
    "kernelspec": {
      "display_name": "Python (Pyodide)",
      "language": "python",
      "name": "python"
    },
    "language_info": {
      "codemirror_mode": {
        "name": "python",
        "version": 3
      },
      "file_extension": ".py",
      "mimetype": "text/x-python",
      "name": "python",
      "nbconvert_exporter": "python",
      "pygments_lexer": "ipython3",
      "version": "3.8"
    }
  },
  "nbformat": 4,
  "nbformat_minor": 5
}
