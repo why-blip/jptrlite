{
  "metadata": {
    "kernelspec": {
      "name": "python",
      "display_name": "Python (Pyodide)",
      "language": "python"
    },
    "language_info": {
      "codemirror_mode": {
        "name": "ipython",
        "version": 3
      },
      "file_extension": ".py",
      "mimetype": "text/x-python",
      "name": "python",
      "nbconvert_exporter": "python",
      "pygments_lexer": "ipython3",
      "version": "3.9.2"
    }
  },
  "nbformat_minor": 5,
  "nbformat": 4,
  "cells": [
    {
      "id": "1565047e-cfcf-4460-b393-404ad8607b90",
      "cell_type": "markdown",
      "source": "## Graphe orienté: représentation par listes de successeurs",
      "metadata": {}
    },
    {
      "id": "bcdba50c-8a6b-484d-b50b-81b9640a0726",
      "cell_type": "code",
      "source": "g = {\n    \"a\": [\"d\"],\n    \"b\": [\"c\"],\n    \"c\": [\"d\", \"e\"],\n    \"d\": [\"a\", \"c\"],\n    \"e\": [\"c\"],\n    \"f\": [\"a\"],\n}\n\n\"\"\" \n  Le dictionnaire g \n    \n   représente le graphe orienté :\n\n     f ---> a <--> d\n                   ^\n                   |\n                   v\n            b ---> c <--> e\n\"\"\"\n\nprint(g)",
      "metadata": {},
      "outputs": [
        {
          "name": "stdout",
          "output_type": "stream",
          "text": [
            "{'a': ['d'], 'b': ['c'], 'c': ['d', 'e'], 'd': ['a', 'c'], 'e': ['c'], 'f': ['a']}\n"
          ]
        }
      ],
      "execution_count": 1
    },
    {
      "id": "80640414-46e4-48af-8398-1157cc2cea6b",
      "cell_type": "code",
      "source": "# pour obtenir la liste des sommets",
      "metadata": {},
      "outputs": [],
      "execution_count": 2
    },
    {
      "id": "e059e246-470f-40a5-a2ca-24929d5c3d6a",
      "cell_type": "code",
      "source": "list(g.keys()) # list nécessaire car en python3 keys est un itérateur",
      "metadata": {},
      "outputs": [
        {
          "data": {
            "text/plain": [
              "['a', 'b', 'c', 'd', 'e', 'f']"
            ]
          },
          "execution_count": 3,
          "metadata": {},
          "output_type": "execute_result"
        }
      ],
      "execution_count": 3
    },
    {
      "id": "439b69ec-ac70-4ba8-aed1-4b7ab79ef3c6",
      "cell_type": "code",
      "source": "# pour avoir la liste des successeurs d'un sommet",
      "metadata": {},
      "outputs": [],
      "execution_count": 4
    },
    {
      "id": "9d9df082-aa2d-464d-a60e-0e897fe62e29",
      "cell_type": "code",
      "source": "g[\"d\"]",
      "metadata": {},
      "outputs": [
        {
          "data": {
            "text/plain": [
              "['a', 'c']"
            ]
          },
          "execution_count": 5,
          "metadata": {},
          "output_type": "execute_result"
        }
      ],
      "execution_count": 5
    },
    {
      "id": "63a88d30-34f7-4ea5-bbd2-325dea7f06c1",
      "cell_type": "code",
      "source": "# pour trouver la liste des prédécesseurs d'un sommet",
      "metadata": {},
      "outputs": [],
      "execution_count": 6
    },
    {
      "id": "b7895a33-ce4e-44f2-b808-0368ee7892da",
      "cell_type": "code",
      "source": "[x for x in list(g.keys()) if \"c\" in g[x]] # exemple: les prédécesseurs de c",
      "metadata": {},
      "outputs": [
        {
          "data": {
            "text/plain": [
              "['b', 'd', 'e']"
            ]
          },
          "execution_count": 7,
          "metadata": {},
          "output_type": "execute_result"
        }
      ],
      "execution_count": 7
    },
    {
      "id": "9cc35dc5-c205-4e88-b77a-2897dc16613b",
      "cell_type": "markdown",
      "source": "### Parcours en profondeur d'abord",
      "metadata": {}
    },
    {
      "id": "bfae1ec0-e8bb-4d46-b471-767b9a3a0cfc",
      "cell_type": "code",
      "source": "def parcoursEnProfondeur(gr, depart):\n    \"\"\"Renvoie la liste des sommets accessibles depuis le sommet depart dans le graphe gr.\n        Parcours en profondeur d'abord.\n        Version récursive.\n        \"\"\"\n    dejavu = set(depart)\n    liste = [depart]\n    def parcoursRecursif(s):\n        for v in gr[s]:\n            if v not in dejavu:\n                liste.append(v)\n                dejavu.add(v)\n                parcoursRecursif(v)\n    parcoursRecursif(depart)\n    return liste        ",
      "metadata": {},
      "outputs": [],
      "execution_count": 8
    },
    {
      "id": "bc574757-ca55-43b8-8749-f5d854b9e494",
      "cell_type": "code",
      "source": "parcoursEnProfondeur(g, \"f\")",
      "metadata": {},
      "outputs": [
        {
          "data": {
            "text/plain": [
              "['f', 'a', 'd', 'c', 'e']"
            ]
          },
          "execution_count": 9,
          "metadata": {},
          "output_type": "execute_result"
        }
      ],
      "execution_count": 9
    },
    {
      "id": "37724dd1-25f4-4540-8564-4f24d4c98da4",
      "cell_type": "code",
      "source": "parcoursEnProfondeur(g, \"a\")",
      "metadata": {},
      "outputs": [
        {
          "data": {
            "text/plain": [
              "['a', 'd', 'c', 'e']"
            ]
          },
          "execution_count": 10,
          "metadata": {},
          "output_type": "execute_result"
        }
      ],
      "execution_count": 10
    },
    {
      "id": "b7476b05-e3d3-4b6f-a536-ebff8388a992",
      "cell_type": "code",
      "source": "parcoursEnProfondeur(g, \"d\")",
      "metadata": {},
      "outputs": [
        {
          "data": {
            "text/plain": [
              "['d', 'a', 'c', 'e']"
            ]
          },
          "execution_count": 11,
          "metadata": {},
          "output_type": "execute_result"
        }
      ],
      "execution_count": 11
    },
    {
      "id": "b13161bc-f896-44be-8d1b-c3db4ec4806a",
      "cell_type": "code",
      "source": "parcoursEnProfondeur(g, \"c\")",
      "metadata": {},
      "outputs": [
        {
          "data": {
            "text/plain": [
              "['c', 'd', 'a', 'e']"
            ]
          },
          "execution_count": 12,
          "metadata": {},
          "output_type": "execute_result"
        }
      ],
      "execution_count": 12
    },
    {
      "id": "dfbaf658-8893-4052-b91e-04ff75077857",
      "cell_type": "code",
      "source": "parcoursEnProfondeur(g, \"b\")",
      "metadata": {},
      "outputs": [
        {
          "data": {
            "text/plain": [
              "['b', 'c', 'd', 'a', 'e']"
            ]
          },
          "execution_count": 13,
          "metadata": {},
          "output_type": "execute_result"
        }
      ],
      "execution_count": 13
    },
    {
      "id": "68da6c91-1ce8-4ab1-b024-e113c3db3525",
      "cell_type": "code",
      "source": "parcoursEnProfondeur(g, \"e\")",
      "metadata": {},
      "outputs": [
        {
          "data": {
            "text/plain": [
              "['e', 'c', 'd', 'a']"
            ]
          },
          "execution_count": 14,
          "metadata": {},
          "output_type": "execute_result"
        }
      ],
      "execution_count": 14
    },
    {
      "id": "6da9d1df-0f91-4a35-86a9-7e9d966f79a9",
      "cell_type": "markdown",
      "source": "### Parcours en largeur d'abord",
      "metadata": {}
    },
    {
      "id": "cccc23f2-69cd-42e2-8a89-fe241c32383b",
      "cell_type": "code",
      "source": "def parcoursEnLargeur(gr, depart):\n    \"\"\"Renvoie la liste des sommets accessibles depuis le sommet depart dans le graphe gr.\n        Parcours en largeur d'abord.\n        \"\"\"\n    dejavu = set(depart)\n    liste = [depart]\n    file = [depart]\n    while file:\n        sommet = file.pop(0)\n        for s in gr[sommet]:\n            if s not in dejavu:\n                liste.append(s)\n                file.append(s)\n                dejavu.add(s)\n    return liste",
      "metadata": {},
      "outputs": [],
      "execution_count": 15
    },
    {
      "id": "00c62f05-abfb-4dd1-aea0-c14248d53435",
      "cell_type": "code",
      "source": "parcoursEnLargeur(g, \"f\")",
      "metadata": {},
      "outputs": [
        {
          "data": {
            "text/plain": [
              "['f', 'a', 'd', 'c', 'e']"
            ]
          },
          "execution_count": 16,
          "metadata": {},
          "output_type": "execute_result"
        }
      ],
      "execution_count": 16
    },
    {
      "id": "717a7be8-7b0b-4d27-ab53-834f4ac7dd20",
      "cell_type": "code",
      "source": "parcoursEnLargeur(g, \"a\")",
      "metadata": {},
      "outputs": [
        {
          "data": {
            "text/plain": [
              "['a', 'd', 'c', 'e']"
            ]
          },
          "execution_count": 17,
          "metadata": {},
          "output_type": "execute_result"
        }
      ],
      "execution_count": 17
    },
    {
      "id": "743e2bd3-026c-467a-94cd-23f0f66db5f6",
      "cell_type": "code",
      "source": "parcoursEnLargeur(g, \"d\")",
      "metadata": {},
      "outputs": [
        {
          "data": {
            "text/plain": [
              "['d', 'a', 'c', 'e']"
            ]
          },
          "execution_count": 18,
          "metadata": {},
          "output_type": "execute_result"
        }
      ],
      "execution_count": 18
    },
    {
      "id": "09521450-1c0f-44a9-9b31-ae6492fca71b",
      "cell_type": "code",
      "source": "parcoursEnLargeur(g, \"c\") # ici différent du parcours en profondeur.",
      "metadata": {},
      "outputs": [
        {
          "data": {
            "text/plain": [
              "['c', 'd', 'e', 'a']"
            ]
          },
          "execution_count": 19,
          "metadata": {},
          "output_type": "execute_result"
        }
      ],
      "execution_count": 19
    },
    {
      "id": "457ca335-b648-49a1-a5a5-034b96b26730",
      "cell_type": "code",
      "source": "parcoursEnLargeur(g, \"b\")",
      "metadata": {},
      "outputs": [
        {
          "data": {
            "text/plain": [
              "['b', 'c', 'd', 'e', 'a']"
            ]
          },
          "execution_count": 20,
          "metadata": {},
          "output_type": "execute_result"
        }
      ],
      "execution_count": 20
    },
    {
      "id": "5fc160ca-e55e-4def-999f-0c444de8a0d2",
      "cell_type": "code",
      "source": "parcoursEnLargeur(g, \"e\")",
      "metadata": {},
      "outputs": [
        {
          "data": {
            "text/plain": [
              "['e', 'c', 'd', 'a']"
            ]
          },
          "execution_count": 21,
          "metadata": {},
          "output_type": "execute_result"
        }
      ],
      "execution_count": 21
    },
    {
      "id": "93e2a3c3-f82a-44be-af0f-fa45ed8b6ce5",
      "cell_type": "markdown",
      "source": "### Ajout d'un sommet, d'arêtes",
      "metadata": {}
    },
    {
      "id": "5557fff7-a163-4ea5-97b2-afa8a712efad",
      "cell_type": "code",
      "source": "g[\"z\"]=[\"f\"]            # deux choses à la fois: ajoute le sommet z et l'arête z -> f \ng[\"a\"].append(\"z\")      # ajoute l'arête a -> f",
      "metadata": {},
      "outputs": [],
      "execution_count": 22
    },
    {
      "id": "f8e03300-ab1b-4e8e-98b8-4f0b26b1aa86",
      "cell_type": "code",
      "source": "",
      "metadata": {},
      "outputs": [],
      "execution_count": null
    },
    {
      "id": "39c413d8-0cbf-4ee5-b5db-b0710957cedd",
      "cell_type": "code",
      "source": "print(\"\"\"\nLe graphe est maintenant\n\n f ---> a <--> d\n ^      |      ^\n |      v      |\n .----  z      |\n               |\n               v\n        b ---> c <--> e\n\n\"\"\")",
      "metadata": {},
      "outputs": [
        {
          "name": "stdout",
          "output_type": "stream",
          "text": [
            "\n",
            "Le graphe est maintenant\n",
            "\n",
            " f ---> a <--> d\n",
            " ^      |      ^\n",
            " |      v      |\n",
            " .----  z      |\n",
            "               |\n",
            "               v\n",
            "        b ---> c <--> e\n",
            "\n",
            "\n"
          ]
        }
      ],
      "execution_count": 23
    },
    {
      "id": "4806d63c-eaaf-41e3-be05-2eed237a6b99",
      "cell_type": "code",
      "source": "print(parcoursEnLargeur(g, \"f\"))",
      "metadata": {},
      "outputs": [
        {
          "name": "stdout",
          "output_type": "stream",
          "text": [
            "['f', 'a', 'd', 'z', 'c', 'e']\n"
          ]
        }
      ],
      "execution_count": 24
    },
    {
      "id": "5939027a-750d-48ae-a549-9edcc2d050be",
      "cell_type": "code",
      "source": "print(parcoursEnLargeur(g, \"c\"))",
      "metadata": {},
      "outputs": [
        {
          "name": "stdout",
          "output_type": "stream",
          "text": [
            "['c', 'd', 'e', 'a', 'z', 'f']\n"
          ]
        }
      ],
      "execution_count": 25
    },
    {
      "id": "a6c0f4be-69f9-4fa1-a609-10e32a935316",
      "cell_type": "code",
      "source": "print(g)",
      "metadata": {},
      "outputs": [
        {
          "name": "stdout",
          "output_type": "stream",
          "text": [
            "{'a': ['d', 'z'], 'b': ['c'], 'c': ['d', 'e'], 'd': ['a', 'c'], 'e': ['c'], 'f': ['a'], 'z': ['f']}\n"
          ]
        }
      ],
      "execution_count": 26
    },
    {
      "id": "64a4091b-64a6-468c-be2c-770674c95edc",
      "cell_type": "markdown",
      "source": "### Trouver tous les chemins d'une longueur donnée partant d'un sommet",
      "metadata": {}
    },
    {
      "id": "865dd892-57d7-44b3-890d-bde4861c7940",
      "cell_type": "code",
      "source": "# les chemins de longueur 1 au depart de x sont formés des chaines [x, s] avec s successeur de x\n# Les chemins de longueur 2 au depart de x sont formés des ch de long 1 prolongés par les successeurs des extrémités des susdits\n# ...\n\ndef cheminsDeLongueur(gr, depart, longueur):\n    if longueur == 0:\n        return [[depart]]\n    else:\n        listeChemins = cheminsDeLongueur(gr, depart, longueur - 1)\n        return [ chemin + [s] for chemin in listeChemins for s in gr[chemin[-1]] ]   ",
      "metadata": {},
      "outputs": [],
      "execution_count": 27
    },
    {
      "id": "bade9494-4edf-4119-9848-21a02610a1b5",
      "cell_type": "code",
      "source": "for i in range(6):\n    print(cheminsDeLongueur(g, \"z\", i))\nprint(cheminsDeLongueur(g, \"d\", 3))",
      "metadata": {},
      "outputs": [
        {
          "name": "stdout",
          "output_type": "stream",
          "text": [
            "[['z']]\n",
            "[['z', 'f']]\n",
            "[['z', 'f', 'a']]\n",
            "[['z', 'f', 'a', 'd'], ['z', 'f', 'a', 'z']]\n",
            "[['z', 'f', 'a', 'd', 'a'], ['z', 'f', 'a', 'd', 'c'], ['z', 'f', 'a', 'z', 'f']]\n",
            "[['z', 'f', 'a', 'd', 'a', 'd'], ['z', 'f', 'a', 'd', 'a', 'z'], ['z', 'f', 'a', 'd', 'c', 'd'], ['z', 'f', 'a', 'd', 'c', 'e'], ['z', 'f', 'a', 'z', 'f', 'a']]\n",
            "[['d', 'a', 'd', 'a'], ['d', 'a', 'd', 'c'], ['d', 'a', 'z', 'f'], ['d', 'c', 'd', 'a'], ['d', 'c', 'd', 'c'], ['d', 'c', 'e', 'c']]\n"
          ]
        }
      ],
      "execution_count": 28
    },
    {
      "id": "9fec5816-6627-46dc-ac9f-4221d0194f83",
      "cell_type": "markdown",
      "source": "### Trouver tous les chemins sans cycle en partant d'un sommet",
      "metadata": {}
    },
    {
      "id": "06544c8e-9b48-4cd5-b8df-169d385f9e36",
      "cell_type": "code",
      "source": "# YES !\ndef cheminsSansCycle(gr, depart):\n    \"\"\"Renvoie la liste des chemins possibles depuis le sommet depart dans le graphe gr.\n        Parcours en largeur d'abord.\n        Version récursive.\n        \"\"\"\n    dejavu = set(depart)\n    liste = [[depart]]\n    \n    def cheminsSommetPasDejaVu(longueur):\n        if longueur == 0:\n            return [[depart]]\n        else:\n            listeChemins = cheminsSommetPasDejaVu(longueur - 1) \n            for chemin in listeChemins:\n                for s in gr[chemin[-1]]:\n                    if s not in dejavu:\n                        dejavu.add(s)\n                        liste.append(chemin + [s])\n            return liste\n    return cheminsSommetPasDejaVu(len(g)-1) # un chemin sans cycle dans un graphe à n sommets est au plus de longueur n-1",
      "metadata": {},
      "outputs": [],
      "execution_count": 29
    },
    {
      "id": "9382f782-4cac-428e-8855-0e3acf131ad1",
      "cell_type": "code",
      "source": "cheminsSansCycle(g, \"z\")",
      "metadata": {},
      "outputs": [
        {
          "data": {
            "text/plain": [
              "[['z'],\n",
              " ['z', 'f'],\n",
              " ['z', 'f', 'a'],\n",
              " ['z', 'f', 'a', 'd'],\n",
              " ['z', 'f', 'a', 'd', 'c'],\n",
              " ['z', 'f', 'a', 'd', 'c', 'e']]"
            ]
          },
          "execution_count": 30,
          "metadata": {},
          "output_type": "execute_result"
        }
      ],
      "execution_count": 30
    },
    {
      "id": "a8a9c0a6-9e01-4ff4-87d0-612bfe4472ad",
      "cell_type": "code",
      "source": "cheminsSansCycle(g, \"d\") ",
      "metadata": {},
      "outputs": [
        {
          "data": {
            "text/plain": [
              "[['d'],\n",
              " ['d', 'a'],\n",
              " ['d', 'c'],\n",
              " ['d', 'a', 'z'],\n",
              " ['d', 'c', 'e'],\n",
              " ['d', 'a', 'z', 'f']]"
            ]
          },
          "execution_count": 31,
          "metadata": {},
          "output_type": "execute_result"
        }
      ],
      "execution_count": 31
    },
    {
      "id": "1f27c9a9-1972-4d96-9885-4933489f1e03",
      "cell_type": "code",
      "source": "cheminsSansCycle(g, \"c\")",
      "metadata": {},
      "outputs": [
        {
          "data": {
            "text/plain": [
              "[['c'],\n",
              " ['c', 'd'],\n",
              " ['c', 'e'],\n",
              " ['c', 'd', 'a'],\n",
              " ['c', 'd', 'a', 'z'],\n",
              " ['c', 'd', 'a', 'z', 'f']]"
            ]
          },
          "execution_count": 32,
          "metadata": {},
          "output_type": "execute_result"
        }
      ],
      "execution_count": 32
    },
    {
      "id": "4d8b0b04-d810-4ad0-98bf-8f2ea21cea86",
      "cell_type": "markdown",
      "source": "### Conversion en graphe non orienté\n\n- On dédouble les arêtes existantes : si a -> b existe, on crée b -> a si elle n'était pas déjà là\n- On retire les a -> a s'il y en a. En effet, les graphes non orientés les plus courants sont _simples_\n\n",
      "metadata": {}
    },
    {
      "id": "3af281bf-da63-4b62-8ad7-10f073e19a2c",
      "cell_type": "code",
      "source": "from copy import deepcopy\ndef copieEtconvertitEnNonOrienté(gr):\n    \"\"\" Renvoie une copie du graphe gr converti en graphe simple non orienté.\"\"\"\n    gr2 = deepcopy(gr)\n    for sommet in gr2.keys():\n        for desti in gr2[sommet]:\n            if sommet in gr2[sommet]:\n                gr2[sommet].remove(sommet)\n            if sommet not in gr2[desti]:\n                gr2[desti].append(sommet)\n    return gr2           ",
      "metadata": {},
      "outputs": [],
      "execution_count": 67
    },
    {
      "id": "5024a70b-1936-4111-a479-7070906716f7",
      "cell_type": "code",
      "source": "gno = copieEtconvertitEnNonOrienté(g)",
      "metadata": {},
      "outputs": [],
      "execution_count": 68
    },
    {
      "id": "5b4a31f0-9627-4938-a22f-de193fd2950c",
      "cell_type": "code",
      "source": "gno",
      "metadata": {},
      "outputs": [
        {
          "data": {
            "text/plain": [
              "{'a': ['d', 'z', 'f'],\n",
              " 'b': ['c'],\n",
              " 'c': ['d', 'e', 'b'],\n",
              " 'd': ['a', 'c'],\n",
              " 'e': ['c'],\n",
              " 'f': ['a', 'z'],\n",
              " 'z': ['f', 'a']}"
            ]
          },
          "execution_count": 69,
          "metadata": {},
          "output_type": "execute_result"
        }
      ],
      "execution_count": 69
    },
    {
      "id": "de5c0eaf-77b5-447e-ae4e-770355885ae0",
      "cell_type": "code",
      "source": "def mermaid(gr, entete=\"graph LR\"):\n    \"\"\"Renvoie une représentation lisible par Mermaid du graphe gr.\"\"\"\n    rep = entete + \"\\n\"\n    for sommet in gr.keys():\n        for desti in gr[sommet]:\n            rep += f\"{sommet} --> {desti}\\n\"\n    return rep",
      "metadata": {},
      "outputs": [],
      "execution_count": 62
    },
    {
      "id": "923a1dbd-cb38-4d41-b0b3-f1bb0c458653",
      "cell_type": "code",
      "source": "print(mermaid(g))",
      "metadata": {},
      "outputs": [
        {
          "name": "stdout",
          "output_type": "stream",
          "text": [
            "graph LR\n",
            "a --> d\n",
            "a --> z\n",
            "b --> c\n",
            "c --> d\n",
            "c --> e\n",
            "d --> a\n",
            "d --> c\n",
            "e --> c\n",
            "f --> a\n",
            "z --> f\n",
            "\n"
          ]
        }
      ],
      "execution_count": 63
    },
    {
      "id": "7299b625-573e-4c49-b0c1-e2c2ef700d35",
      "cell_type": "markdown",
      "source": "[![](https://mermaid.ink/img/pako:eNpFzzEOwyAMBdCrIM_NBRg6dWyXdqu8uOAEpGAiCkMT5e5FRLTbs78l2xuYaBk0TIkWp653FBRSw3BWtmNFeTUYFNOjA4xiG6ijznDH2KO1YYQTBE6BvK0LNxSlELLjwAi6cvaTywgoex2kkuPjIwZ0ToVPkGKZHOiR5netymIp88VTPTv8ugvJM8Z_zdbnmG7Hg-3P_Quj2Er-?type=png)](https://mermaid.live/edit#pako:eNpFzzEOwyAMBdCrIM_NBRg6dWyXdqu8uOAEpGAiCkMT5e5FRLTbs78l2xuYaBk0TIkWp653FBRSw3BWtmNFeTUYFNOjA4xiG6ijznDH2KO1YYQTBE6BvK0LNxSlELLjwAi6cvaTywgoex2kkuPjIwZ0ToVPkGKZHOiR5netymIp88VTPTv8ugvJM8Z_zdbnmG7Hg-3P_Quj2Er-)",
      "metadata": {}
    },
    {
      "id": "8be37daa-4458-4e69-909e-47667a7da9bc",
      "cell_type": "code",
      "source": "print(mermaid(gno))",
      "metadata": {},
      "outputs": [
        {
          "name": "stdout",
          "output_type": "stream",
          "text": [
            "graph LR\n",
            "a --> d\n",
            "a --> z\n",
            "a --> f\n",
            "b --> c\n",
            "c --> d\n",
            "c --> e\n",
            "c --> b\n",
            "d --> a\n",
            "d --> c\n",
            "e --> c\n",
            "f --> a\n",
            "f --> z\n",
            "z --> f\n",
            "z --> a\n",
            "\n"
          ]
        }
      ],
      "execution_count": 64
    },
    {
      "id": "a5b8dd03-c6c7-4783-a31a-dd5f3e7ec208",
      "cell_type": "markdown",
      "source": "[![](https://mermaid.ink/img/pako:eNpF0DEOgzAMBdCrRJ7hAhk6dWyXdqu8mMRAJOKgNAwFcfdGILfbc_xlxd7AJc9gYcg0j-b2QCHTthfjFauiR-kOOBSnmROs6FD8AVLUMCt6bfU6edXJq7ZQoIHIOVLw9VsbijEIZeTICLZyCsNYEFD2GqSlpOdHHNiSF24gp2UYwfY0vWu1zJ4KXwPV5eLvdSZ5pfSv2YeS8v08w3GN_QtGKVWX?type=png)](https://mermaid.live/edit#pako:eNpF0DEOgzAMBdCrRJ7hAhk6dWyXdqu8mMRAJOKgNAwFcfdGILfbc_xlxd7AJc9gYcg0j-b2QCHTthfjFauiR-kOOBSnmROs6FD8AVLUMCt6bfU6edXJq7ZQoIHIOVLw9VsbijEIZeTICLZyCsNYEFD2GqSlpOdHHNiSF24gp2UYwfY0vWu1zJ4KXwPV5eLvdSZ5pfSv2YeS8v08w3GN_QtGKVWX)",
      "metadata": {}
    },
    {
      "id": "86fc1978-bc08-4daf-9f30-c9cd2a0f2807",
      "cell_type": "markdown",
      "source": "Pour les graphes non orientés, on aimerait une représentation masquant les doubles flèches",
      "metadata": {}
    },
    {
      "id": "177dcec4-c159-43ad-a2c1-280a49248ed7",
      "cell_type": "code",
      "source": "def mermaidNO(gr, entete=\"graph LR\"):\n    \"\"\"Renvoie une représentation lisible par Mermaid du graphe non orienté gr.\"\"\"\n    rep = entete + \"\\n\"\n \n    for sommet in gr.keys():\n        for desti in gr[sommet]:\n            if sommet < desti: \n                rep += f\"{sommet} <--> {desti}\\n\"\n \n    return rep",
      "metadata": {},
      "outputs": [],
      "execution_count": 65
    },
    {
      "id": "254c39e1-7ff1-42a5-a3df-b2c66cd06c0c",
      "cell_type": "code",
      "source": "print(mermaidNO(gno))",
      "metadata": {},
      "outputs": [
        {
          "name": "stdout",
          "output_type": "stream",
          "text": [
            "graph LR\n",
            "a <--> d\n",
            "a <--> z\n",
            "a <--> f\n",
            "b <--> c\n",
            "c <--> d\n",
            "c <--> e\n",
            "f <--> z\n",
            "\n"
          ]
        }
      ],
      "execution_count": 66
    },
    {
      "id": "afac16cb-a24f-4bc9-94a4-7afb294f6376",
      "cell_type": "markdown",
      "source": "[![](https://mermaid.ink/img/pako:eNpFj7EOwjAMRH8l8tz-QISYGGGBDXkxidtEapwqJEOp-u8EioK8vLPO8t0KJloGDWOi2anzFYXUoe-PyjZ6NRpQHjsZFNN8P2KUoV18BjoInAJ5Wx-sKEohZMeBEXTFyY8uI6Bs1Uglx9siBnROhTtIsYwO9EDTs6oyW8p88lRjhradSe4x_jVbn2O67IW-vbY3s0JG_A?type=png)](https://mermaid.live/edit#pako:eNpFj7EOwjAMRH8l8tz-QISYGGGBDXkxidtEapwqJEOp-u8EioK8vLPO8t0KJloGDWOi2anzFYXUoe-PyjZ6NRpQHjsZFNN8P2KUoV18BjoInAJ5Wx-sKEohZMeBEXTFyY8uI6Bs1Uglx9siBnROhTtIsYwO9EDTs6oyW8p88lRjhradSe4x_jVbn2O67IW-vbY3s0JG_A)",
      "metadata": {}
    },
    {
      "id": "2c7adae0-23ab-4954-9890-1f05657a42b9",
      "cell_type": "markdown",
      "source": "Je ne sais pas comment enlever les pointes des flèches.",
      "metadata": {}
    },
    {
      "id": "725b37ff-25df-406a-b2fe-c1b1ec10338e",
      "cell_type": "markdown",
      "source": "[![](https://mermaid.ink/img/pako:eNpdz7EKAjEMBuBXKZnvXqCIk6MuukmW2ObawjU9ajvoce9usXCC2_eHJCQrmGQZNLhMi1fnK8pDHcbxqAyK6bK7GGXqeqPQv6ZdbQIGiJwjBduWryhKIRTPkRF04xycLwgoW2ukWtLtJQZ0yZUHyKk6D3qi-dlSXSwVPgVqJ8a9upDcU_pltqGkfOnPfH_aPn2PRWg?type=png)](https://mermaid.live/edit#pako:eNpdz7EKAjEMBuBXKZnvXqCIk6MuukmW2ObawjU9ajvoce9usXCC2_eHJCQrmGQZNLhMi1fnK8pDHcbxqAyK6bK7GGXqeqPQv6ZdbQIGiJwjBduWryhKIRTPkRF04xycLwgoW2ukWtLtJQZ0yZUHyKk6D3qi-dlSXSwVPgVqJ8a9upDcU_pltqGkfOnPfH_aPn2PRWg)",
      "metadata": {}
    },
    {
      "id": "40e4a34f-071a-4080-8764-99fd65f2aaf8",
      "cell_type": "markdown",
      "source": "Un changement dans l'odre de déclaration des arêtes peut conduire à un placement meilleur: ci-dessus avec a ⟶ d déclaré à la fin.",
      "metadata": {}
    },
    {
      "id": "634ab607-d072-4fb1-9f43-1ec3acd19de2",
      "cell_type": "code",
      "source": "",
      "metadata": {},
      "outputs": [],
      "execution_count": null
    }
  ]
}