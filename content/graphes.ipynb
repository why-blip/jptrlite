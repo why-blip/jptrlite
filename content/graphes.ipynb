{
 "cells": [
  {
   "cell_type": "code",
   "execution_count": 1,
   "id": "1688302b-c400-436b-b505-a595c94ca4fd",
   "metadata": {},
   "outputs": [],
   "source": [
    "class Graph(object):\n",
    "    \"\"\"\n",
    "    Représentation d'un graphe orienté par listes de successeurs\n",
    "    \n",
    "    Exemple: \n",
    "    \n",
    "    g = {\n",
    "    \"a\": [\"d\"],\n",
    "    \"b\": [\"c\"],\n",
    "    \"c\": [\"d\", \"e\"],\n",
    "    \"d\": [\"a\", \"c\"],\n",
    "    \"e\": [\"c\"],\n",
    "    \"f\": [\"a\"],\n",
    "    }\n",
    "    \n",
    "    graph = Graph(g)\n",
    "    \n",
    "    représente\n",
    "\n",
    "     f ---> a <--> d\n",
    "                   ^\n",
    "                   |\n",
    "                   v\n",
    "            b ---> c <--> e\n",
    "\"\"\"\n",
    "    def __init__(self, graph_dict={}):\n",
    "        self.__graph_dict = graph_dict\n",
    "\n",
    "    def sommets(self):\n",
    "        \"\"\"Renvoie les sommets du graphe sous forme de liste.\"\"\"\n",
    "        return list(self.__graph_dict.keys())\n",
    "\n",
    "    def aretes(self):\n",
    "        \"\"\"Renvoie les arêtes du graphe sous forme de liste de _couples_ \"\"\"\n",
    "        return self.__genere_aretes()\n",
    "\n",
    "    def succ(self, s):\n",
    "        \"\"\"Renvoie la liste des sommets successeurs de s\"\"\"\n",
    "        return self.__graph_dict[s]\n",
    "    \n",
    "    def ajoute_sommet(self, s):\n",
    "        \"\"\"Si le sommet s n’est pas dans self.__graph_dict,\n",
    "           une clé s avec une liste vide comme valeur est ajoutée au dictionnaire.\n",
    "        \"\"\"\n",
    "        if s not in self.__graph_dict:\n",
    "            self.__graph_dict[s] = []\n",
    "\n",
    "    def ajoute_arete(self, couple):\n",
    "        \"\"\"Ajoute une arête v1 - > v2 au graphe.\n",
    "           v1 doit être un sommet existant du graphe.\n",
    "           \"\"\"\n",
    "        depart = couple[0]\n",
    "        arrivee = couple[1]\n",
    "        self.__graph_dict[depart].append(arrivee)\n",
    "        \n",
    "    def __genere_aretes(self):\n",
    "        \"\"\"Génère la liste des paires de sommets, chacune représentant une arête orientée.\"\"\"\n",
    "        aretes = []\n",
    "        for s in self.sommets():\n",
    "            for successeur in self.succ(s):\n",
    "                aretes.append((s, successeur))\n",
    "        return aretes\n",
    "\n",
    "    def __str__(self):\n",
    "        \"\"\"Retourne une représentation textuelle du graphe.\"\"\"\n",
    "        rep = \"sommets: \"\n",
    "        for k in self.sommets():\n",
    "            rep += str(k) + \" \"\n",
    "        rep += \"\\n   aretes: \"\n",
    "        for a in self.aretes():\n",
    "            rep += str(a) + \" \"\n",
    "        return rep\n",
    "\n",
    "    def cheminEnProfondeur(self, s1, s2, chemin=[]):\n",
    "        \"\"\"Trouve un chemin du sommet s1 vers le sommet s2 dans le graphe. Chaîne vide sinon.\n",
    "            A VOIR\n",
    "            \"\"\"\n",
    "        chemin1 = chemin + [s1]\n",
    "        if s1 == s2:\n",
    "            return chemin1\n",
    "        for s in self.succ(s1):\n",
    "            if s not in chemin1:\n",
    "                chemin2 = self.cheminEnProfondeur(s, s2, chemin1)\n",
    "                if chemin2:\n",
    "                    return chemin2\n",
    "        return []\n",
    "\n",
    "    def parcoursEnProfondeur(self, depart):\n",
    "        \"\"\"Renvoie la liste des sommets accessibles depuis le sommet depart.\n",
    "            Parcours en profondeur d'abord.\n",
    "            Version récursive.\n",
    "            \"\"\"\n",
    "        dejavu = set(depart)\n",
    "        liste = [depart]\n",
    "        def parcoursRecursif(s):\n",
    "            for v in self.succ(s):\n",
    "                if v not in dejavu:\n",
    "                    liste.append(v)\n",
    "                    dejavu.add(v)\n",
    "                    parcoursRecursif(v)\n",
    "        parcoursRecursif(depart)\n",
    "        return liste \n",
    "        \n",
    "    def parcoursEnLargeur(self, depart):\n",
    "        \"\"\"Renvoie la liste des sommets accessibles depuis le sommet depart.\n",
    "            Parcours en largeur d'abord.\n",
    "            \"\"\"\n",
    "        dejavu = set(depart)\n",
    "        liste = [depart]\n",
    "        file = [depart]\n",
    "        while file:\n",
    "            sommet = file.pop(0)\n",
    "            for s in self.succ(sommet):\n",
    "                if s not in dejavu:\n",
    "                    liste.append(s)\n",
    "                    file.append(s)\n",
    "                    dejavu.add(s)\n",
    "        return liste\n",
    "           \n",
    "    def trouve_cycle(self):\n",
    "        for s in self.sommets():\n",
    "            ch = self.cheminEnProfondeur(s, s)\n",
    "            if ch is not None:\n",
    "                return ch\n",
    "        return None\n",
    "\n",
    "    "
   ]
  },
  {
   "cell_type": "code",
   "execution_count": 2,
   "id": "cc805aec-f675-4a5a-84aa-1652613f74b6",
   "metadata": {},
   "outputs": [
    {
     "name": "stdout",
     "output_type": "stream",
     "text": [
      "sommets: a b c d e f \n",
      "   aretes: ('a', 'd') ('b', 'c') ('c', 'd') ('c', 'e') ('d', 'a') ('d', 'c') ('e', 'c') ('f', 'a') \n",
      "Sommets du graphe\n",
      "['a', 'b', 'c', 'd', 'e', 'f']\n",
      "Arêtes du graphe\n",
      "[('a', 'd'), ('b', 'c'), ('c', 'd'), ('c', 'e'), ('d', 'a'), ('d', 'c'), ('e', 'c'), ('f', 'a')]\n",
      "Un chemin de f vers e\n",
      "['f', 'a', 'd', 'c', 'e']\n",
      "Un chhemin de e vers f\n",
      "[]\n",
      "Chemin de a vers a\n",
      "['a']\n",
      "Y a-t-il un cycle ?\n",
      "['a']\n"
     ]
    }
   ],
   "source": [
    "g = {\n",
    "    \"a\": [\"d\"],\n",
    "    \"b\": [\"c\"],\n",
    "    \"c\": [\"d\", \"e\"],\n",
    "    \"d\": [\"a\", \"c\"],\n",
    "    \"e\": [\"c\"],\n",
    "    \"f\": [\"a\"],\n",
    "}\n",
    "\n",
    "\"\"\"\n",
    " f ---> a <--> d\n",
    "\n",
    "               ^\n",
    "               |\n",
    "               v\n",
    "               \n",
    "        b ---> c <--> e\n",
    "\n",
    "\"\"\"\n",
    "\n",
    "monGraphe = Graph(g)\n",
    "print(monGraphe) # sous-entend l'utilisation de la méthode str\n",
    "\n",
    "print(\"Sommets du graphe\")\n",
    "print(monGraphe.sommets())\n",
    "\n",
    "print(\"Arêtes du graphe\")\n",
    "print(monGraphe.aretes())\n",
    "\n",
    "print(\"Un chemin de f vers e\")\n",
    "print(monGraphe.cheminEnProfondeur(\"f\", \"e\"))\n",
    "print(\"Un chhemin de e vers f\")\n",
    "print(monGraphe.cheminEnProfondeur(\"e\", \"f\"))\n",
    "print(\"Chemin de a vers a\")\n",
    "print(monGraphe.cheminEnProfondeur(\"a\", \"a\")) # algo trouve toujours le chemin x -> x même si pas dans arêtes\n",
    "print(\"Y a-t-il un cycle ?\")\n",
    "print(monGraphe.trouve_cycle()) # du coup trouve toujours un cycle...\n",
    "\n"
   ]
  },
  {
   "cell_type": "code",
   "execution_count": 3,
   "id": "00c62f05-abfb-4dd1-aea0-c14248d53435",
   "metadata": {},
   "outputs": [
    {
     "name": "stdout",
     "output_type": "stream",
     "text": [
      "['f', 'a', 'd', 'c', 'e']\n"
     ]
    }
   ],
   "source": [
    "print(monGraphe.parcoursEnProfondeur(\"f\"))"
   ]
  },
  {
   "cell_type": "code",
   "execution_count": 4,
   "id": "717a7be8-7b0b-4d27-ab53-834f4ac7dd20",
   "metadata": {},
   "outputs": [
    {
     "name": "stdout",
     "output_type": "stream",
     "text": [
      "['c', 'd', 'a', 'e']\n"
     ]
    }
   ],
   "source": [
    "print(monGraphe.parcoursEnProfondeur(\"c\"))"
   ]
  },
  {
   "cell_type": "code",
   "execution_count": 5,
   "id": "241a8398-94ce-416a-bb5d-87413235e240",
   "metadata": {},
   "outputs": [
    {
     "name": "stdout",
     "output_type": "stream",
     "text": [
      "Ajout des arêtes a -> z et z -> f\n",
      "Sommets du graphe\n",
      "['a', 'b', 'c', 'd', 'e', 'f', 'z']\n",
      "Arêtes du graphe\n",
      "[('a', 'd'), ('a', 'z'), ('b', 'c'), ('c', 'd'), ('c', 'e'), ('d', 'a'), ('d', 'c'), ('e', 'c'), ('f', 'a'), ('z', 'f')]\n"
     ]
    }
   ],
   "source": [
    "print(\"Ajout des arêtes a -> z et z -> f\")\n",
    "monGraphe2 = monGraphe\n",
    "monGraphe2.ajoute_sommet(\"z\")\n",
    "monGraphe2.ajoute_arete((\"a\", \"z\"))  # l'arête est donnée sous forme d'un couple\n",
    "monGraphe2.ajoute_arete((\"z\", \"f\")) \n",
    "\n",
    "print(\"Sommets du graphe\")\n",
    "print(monGraphe2.sommets())\n",
    "\n",
    "print(\"Arêtes du graphe\")\n",
    "print(monGraphe2.aretes())"
   ]
  },
  {
   "cell_type": "code",
   "execution_count": 6,
   "id": "39c413d8-0cbf-4ee5-b5db-b0710957cedd",
   "metadata": {},
   "outputs": [
    {
     "name": "stdout",
     "output_type": "stream",
     "text": [
      "\n",
      "Le graphe est maintenant\n",
      "\n",
      " f ---> a <--> d\n",
      " ^      |      ^\n",
      " |      |      |\n",
      " .----  z      |\n",
      "               |\n",
      "               v\n",
      "        b ---> c <--> e\n",
      "\n",
      "\n"
     ]
    }
   ],
   "source": [
    "print(\"\"\"\n",
    "Le graphe est maintenant\n",
    "\n",
    " f ---> a <--> d\n",
    " ^      |      ^\n",
    " |      |      |\n",
    " .----  z      |\n",
    "               |\n",
    "               v\n",
    "        b ---> c <--> e\n",
    "\n",
    "\"\"\")"
   ]
  },
  {
   "cell_type": "code",
   "execution_count": 7,
   "id": "d2dcf999-6600-439d-86d9-9624439cbebe",
   "metadata": {},
   "outputs": [
    {
     "name": "stdout",
     "output_type": "stream",
     "text": [
      "Chemin de z vers e\n",
      "['z', 'f', 'a', 'd', 'c', 'e']\n",
      "Chemin de e vers z\n",
      "['e', 'c', 'd', 'a', 'z']\n",
      "Chemin de z vers z\n",
      "['z']\n",
      "Y a-t-il un cycle ?\n",
      "['a']\n"
     ]
    }
   ],
   "source": [
    "print(\"Chemin de z vers e\")\n",
    "print(monGraphe2.cheminEnProfondeur(\"z\", \"e\"))\n",
    "print(\"Chemin de e vers z\")\n",
    "print(monGraphe2.cheminEnProfondeur(\"e\", \"z\"))\n",
    "print(\"Chemin de z vers z\")\n",
    "print(monGraphe2.cheminEnProfondeur(\"z\", \"z\")) # algo trouve toujours le chemin x -> x même si pas dans arêtes\n",
    "print(\"Y a-t-il un cycle ?\")\n",
    "print(monGraphe2.trouve_cycle()) # du coup trouve toujours un cycle...\n",
    "\n"
   ]
  },
  {
   "cell_type": "code",
   "execution_count": 8,
   "id": "4806d63c-eaaf-41e3-be05-2eed237a6b99",
   "metadata": {},
   "outputs": [
    {
     "name": "stdout",
     "output_type": "stream",
     "text": [
      "['f', 'a', 'd', 'z', 'c', 'e']\n"
     ]
    }
   ],
   "source": [
    "print(monGraphe2.parcoursEnLargeur(\"f\"))"
   ]
  },
  {
   "cell_type": "code",
   "execution_count": 9,
   "id": "5939027a-750d-48ae-a549-9edcc2d050be",
   "metadata": {},
   "outputs": [
    {
     "name": "stdout",
     "output_type": "stream",
     "text": [
      "['c', 'd', 'e', 'a', 'z', 'f']\n"
     ]
    }
   ],
   "source": [
    "print(monGraphe2.parcoursEnLargeur(\"c\"))"
   ]
  },
  {
   "cell_type": "code",
   "execution_count": 10,
   "id": "a6c0f4be-69f9-4fa1-a609-10e32a935316",
   "metadata": {},
   "outputs": [
    {
     "name": "stdout",
     "output_type": "stream",
     "text": [
      "sommets: a b c d e f z \n",
      "   aretes: ('a', 'd') ('a', 'z') ('b', 'c') ('c', 'd') ('c', 'e') ('d', 'a') ('d', 'c') ('e', 'c') ('f', 'a') ('z', 'f') \n"
     ]
    }
   ],
   "source": [
    "print(monGraphe2)"
   ]
  },
  {
   "cell_type": "code",
   "execution_count": null,
   "id": "bade9494-4edf-4119-9848-21a02610a1b5",
   "metadata": {},
   "outputs": [],
   "source": []
  }
 ],
 "metadata": {
  "kernelspec": {
   "display_name": "Python 3",
   "language": "python",
   "name": "python3"
  },
  "language_info": {
   "codemirror_mode": {
    "name": "ipython",
    "version": 3
   },
   "file_extension": ".py",
   "mimetype": "text/x-python",
   "name": "python",
   "nbconvert_exporter": "python",
   "pygments_lexer": "ipython3",
   "version": "3.9.2"
  }
 },
 "nbformat": 4,
 "nbformat_minor": 5
}
