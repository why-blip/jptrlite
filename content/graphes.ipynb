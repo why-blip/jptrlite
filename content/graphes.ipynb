{
  "metadata": {
    "kernelspec": {
      "display_name": "Python (Pyodide)",
      "language": "python",
      "name": "python"
    },
    "language_info": {
      "codemirror_mode": {
        "name": "python",
        "version": 3
      },
      "file_extension": ".py",
      "mimetype": "text/x-python",
      "name": "python",
      "nbconvert_exporter": "python",
      "pygments_lexer": "ipython3",
      "version": "3.8"
    }
  },
  "nbformat_minor": 5,
  "nbformat": 4,
  "cells": [
    {
      "id": "c5feec12-8ef1-438e-b567-0386ede99569",
      "cell_type": "markdown",
      "source": "# Graphes\nLes graphes sont des objets mathématiques. \n\nUn graphe est défini par \n* un ensemble $S$ de **sommets**\n* un ensemble $A$ d'**arêtes** ou **arcs** reliant ces sommets\n\nIl existe principalement deux sortes de graphes.\n\n* les graphes **non orientés simples**\n    * il n'y a au maximum qu'**une arête** entre deux sommets distincts\n    * il n'y a pas d'arête d'un sommet à lui-même (boucle)\n    * les arêtes n'ont pas de sens. On les rerésente avec des traits non fléchés.\n    * deux sommets reliés par une arête sont dits **adjacents**, ou **voisins**\n    * l'ensemble des **voisins** d'un sommet est l'ensemble des sommets directement reliés à ce sommet\n    * Une suite de sommets telle qu'on passe de l'un à l'autre en suivant une arête s'appelle une **chaîne**\n    \n\n[Un graphe non orienté. Remarquez le sommet $E$ isolé.](grapheNO.jpg)\n \n* les graphes **orientés** \n     * on parle alors d'**arc** et non d'arête entre deux sommets. On représente les rcs par des flèches.\n     * on dit qu'un sommet $s_2$ est un **successeur** d'un sommet $s_1$ s'il existe un arc de $s_1$ à s$_2$. Inversement, dans ce cas $s_1$ est un **prédéceseur** de $s_2$\n     * il y a au maximun deux arcs entre deux sommets: un dans chaque sens\n     * il peut y avoir une flèche d'un sommet $s$ à ce même sommet\n     * Une suite de sommets telle qu'on passe de l'un à l'autre en suivant une arête s'appelle un **chemin**\n\n[Un graphe orienté. Notez que le sommet $a$ a une boucle](grapheO.jpg)\n",
      "metadata": {}
    },
    {
      "id": "03be299a-e30d-47e9-a915-056e2568bbe0",
      "cell_type": "markdown",
      "source": "Dans tous les cas, il peut y avoir des sommets reliés à aucun autre sommet. On parle alors de sommet **isolé**.\n\nChacune de ces deux sortes peut être enrichie par des nombres affectés aux arcs ou aux arêtes: on obtinent alors un graphe **pondéré**.\n\nLe nombre affecté à chaque arête ou arc s'appelle son **poids**.\n\nCes nombres peuvent représenter \n\n- une distance entre deux points d'une carte \n- une probabilté de transition d'un état dans un autre \n- le coût d'un déplacement d'un point à un autre d'un réseau\netc.",
      "metadata": {}
    },
    {
      "id": "45fe96fe-e16b-4a5c-a1ad-63d3df242ee8",
      "cell_type": "markdown",
      "source": "## Structure de données\n\n### Représentation d'un graphe par matrice d'adjacence\n\n#### Pour un graphe orienté\nOn peut représenter un graphe orienté par une **matrice d'adjacence**.\n\nOn suppose avoir numéroté les sommets du graphe: $1,2,\\ldots,n$ \n\n* c'est une matrice carrée. Elle a autant de lignes (et de colonnes) que de sommets du graphe.\n* cette matrice $A$ ne contient que des 0 et des 1\n* l'élément $a_{i,j}$ de cette matrice vaut 1 si et seulement si il existe un arc du sommet $i$ au sommet $j$\n\nLes lignes correspondent donc aux sommets de départ, les colonnes aux sommets d'arrivée.\n\nExemple: le graphe orienté vu plus haut est représenté par la matrice d'adjacence $6\\times 6$ suivante : \n\n|↗ | a | b | c | d | e | f |\n|---|---|---|---|---|---|---|\n| a | 1 |   |   | 1 |   |   |\n| b |   |   | 1 |   |   |   |\n| c |   |   |   | 1 | 1 |   |\n| d | 1 |   | 1 |   |   |   |\n| e |   |   | 1 |   |   |   |\n| f | 1 |   |   |   |   |   |\n\nPour plus de clarté, les zéros ont été omis et les noms des sommets rappelés en tête de ligne et de colonne.\n",
      "metadata": {}
    },
    {
      "id": "73e41554-b253-4b5d-91e2-3d587066a5d9",
      "cell_type": "markdown",
      "source": "#### Pour un graphe non orienté\nLa même technique peut être employée: en effet un graphe non orienté peut être vu comme un graphe orienté particulier.\n\nUne arête entre un sommet $s_i$ et un sommet $s_j$ ($i\\neq j$) est alors représentée par deux arcs: un arc $s_i\\to s_j$ et un arc $s_j \\to s_i$.\n\nTODO dessin 2 sommets une arete\n\nIl faut donc ne pas oublier de manipuler _deux_ arcs à chaque fois qu'on modifie _une_ arête.\n\nOn obtient une **matrice symétrique** par rapport à sa diagonale principale.  \n\n[Deux arcs par arête](2arcs.jpg)\n\n[Un graphe non orienté a une matrice d'adjacenece **symétrique**](matsym.jpg)",
      "metadata": {}
    },
    {
      "id": "680021de-2296-4331-a4e8-44c082c926e2",
      "cell_type": "markdown",
      "source": "#### Pour un graphe pondéré\nDans le cas d'un graphe pondéré, la matrice est remplie avec les poids du graphe:  $a_{i,j}$ représente le poids affecté à l'arc $s_i\\to s_j$ (qui existe donc).\n\nIl faut alors convenir d'une valeur spéciale comme  `None` pour signaler l'absence d'arc.\n\nDans la suite, par simplicité on ne s'intéressera qu'à des graphes non pondérés.",
      "metadata": {}
    },
    {
      "id": "c395f528-c8d9-411d-ae04-9e704fa736e9",
      "cell_type": "markdown",
      "source": "### Représentation d'un graphe orienté par listes de successeurs\nOn étudie ici comment utiliser Python pour définir un graphe orienté en utilisant une structure bien connue: un _dictionnaire_.\n\nUn graphe $G$ est représenté par un dictionnaire $g$ tel que:\n\n* chaque clé représente un sommet\n* la valeur associée à cette clé est la liste des successeurs de ce sommet dans le graphe $G$\n  ",
      "metadata": {}
    },
    {
      "id": "64557c40-7abe-4588-815c-ee7ea700d67c",
      "cell_type": "code",
      "source": "g = {\n    \"a\": [\"a\", \"d\"],\n    \"b\": [\"c\"],\n    \"c\": [\"d\", \"e\"],\n    \"d\": [\"a\", \"c\"],\n    \"e\": [\"c\"],\n    \"f\": [\"a\"],\n}",
      "metadata": {
        "trusted": true
      },
      "outputs": [],
      "execution_count": 35
    },
    {
      "id": "2cb8f3f5-2269-41e1-8135-3d9ba7a1139e",
      "cell_type": "markdown",
      "source": "TODO dessin de g\n\n\n\n\nPour un graphe non orienté, les précautions déjà évoquées sont encore valables:\n si $s_j$ fait partie des successeurs de $s_i$, il faut veiller à ce que \n   $s_i$ soit bien aussi dans la liste des successeurs de $s_j$.",
      "metadata": {}
    },
    {
      "id": "12c83296-12a5-491b-9223-edbb8e2b2537",
      "cell_type": "markdown",
      "source": "Cette représentation facilite certaines opérations:\n- pour obtenir la liste des sommets : ",
      "metadata": {}
    },
    {
      "id": "e059e246-470f-40a5-a2ca-24929d5c3d6a",
      "cell_type": "code",
      "source": "list(g.keys())",
      "metadata": {
        "trusted": true
      },
      "outputs": [
        {
          "execution_count": 36,
          "output_type": "execute_result",
          "data": {
            "text/plain": "['a', 'b', 'c', 'd', 'e', 'f']"
          },
          "metadata": {}
        }
      ],
      "execution_count": 36
    },
    {
      "id": "43e189f2-7d99-40a7-b3e1-90a6b64c1f19",
      "cell_type": "markdown",
      "source": "- pour obtenir la liste des successeurs d'un sommet",
      "metadata": {}
    },
    {
      "id": "9d9df082-aa2d-464d-a60e-0e897fe62e29",
      "cell_type": "code",
      "source": "g[\"d\"]",
      "metadata": {
        "trusted": true
      },
      "outputs": [
        {
          "execution_count": 37,
          "output_type": "execute_result",
          "data": {
            "text/plain": "['a', 'c']"
          },
          "metadata": {}
        }
      ],
      "execution_count": 37
    },
    {
      "id": "92f92e10-51d5-485c-a1b5-de2888434e5f",
      "cell_type": "markdown",
      "source": "- pour obtenir la liste des prédécesseurs d'un sommet",
      "metadata": {}
    },
    {
      "id": "b7895a33-ce4e-44f2-b808-0368ee7892da",
      "cell_type": "code",
      "source": "[x for x in list(g.keys()) if \"c\" in g[x]] # exemple: les prédécesseurs de c",
      "metadata": {
        "trusted": true
      },
      "outputs": [
        {
          "execution_count": 38,
          "output_type": "execute_result",
          "data": {
            "text/plain": "['b', 'd', 'e']"
          },
          "metadata": {}
        }
      ],
      "execution_count": 38
    },
    {
      "id": "5df8f39a-aef5-4adf-95a7-1c257cc9c4be",
      "cell_type": "markdown",
      "source": "* pour ajouter un sommet isolé",
      "metadata": {}
    },
    {
      "id": "05f513b5-9fe3-49b5-baf3-112de16e707b",
      "cell_type": "code",
      "source": "g[\"k\"] = []",
      "metadata": {
        "trusted": true
      },
      "outputs": [],
      "execution_count": 39
    },
    {
      "id": "acda090a-dd50-4a60-ac85-4b7504b94005",
      "cell_type": "markdown",
      "source": "* pour ajouter une arête entre deux sommets existants",
      "metadata": {}
    },
    {
      "id": "c037b191-11de-4dfe-bc4d-cb13ee6eb67e",
      "cell_type": "code",
      "source": "g[\"k\"].append(\"f\")      # ajoute l'arc k -> f\ng[\"f\"].append(\"k\")      # ajoute l'arc f -> k",
      "metadata": {
        "trusted": true
      },
      "outputs": [],
      "execution_count": 40
    },
    {
      "id": "74f35dfd-efde-4f6d-9342-5fc9c960a2b5",
      "cell_type": "markdown",
      "source": "* pour supprimer un sommet\nIl faut supprimer \n    - Le sommet et les arcs au départ de celui-ci\n    - les arcs arrivant à celui-ci",
      "metadata": {}
    },
    {
      "id": "c0930191-1d3c-4fe3-8426-a820c931e80b",
      "cell_type": "code",
      "source": "del g[\"k\"] \nfor s in g:\n     if \"k\" in g[s]:\n         g[s].remove(\"k\")",
      "metadata": {
        "trusted": true
      },
      "outputs": [],
      "execution_count": 41
    },
    {
      "id": "4a3a8871-412b-43b1-8d65-33646e7dbbb2",
      "cell_type": "markdown",
      "source": "#### Passage de la représentation matricielle à la représentation par listes de successeurs\n\nOn suppose que les sommets sont représentés par des numéros $1, 2, \\ldots, n$.\n\nAlgorithme :\n\n> $n$ est un entier strictement positif\n>\n> $a$ est une matrice $n\\times n$\n>\n> $g$ est un dictionnaire vide\n>\n> $lsucc$ est une liste\n>\n> Pour $i$ allant de 1 à $n$:\n> >  $lsucc \\leftarrow []$\n> >  \n> >  Pour $j$ allant de $1$ à $n$:\n> > \n> > > Si $a_{i,j} = 1$ alors ajouter $j$ à $lsucc$\n> >  \n> >  Ajouter l'association $i$ : $lsucc$ au dictionnaire $g$ \n \nImplémentation : ",
      "metadata": {}
    },
    {
      "id": "29ccd562-9e32-4e5d-a3be-82fd05eb0c29",
      "cell_type": "code",
      "source": "def matVersDic(a):\n    \"\"\" Renvoie une représentation par listes de successeurs d'un graphe orienté défini par une matirce d'adjacence a.\n        Les sommets sont numérotés.\n    Exemple:\n    >>> a = [[1,0,0,1,0],\n             [0,0,1,0,0],\n             [1,0,0,0,1],\n             [0,1,0,1,0],\n             [1,1,0,0,1]]\n    >>> matVersDic(a)\n    {0: [0, 3], 1: [2], 2: [0, 4], 3: [1, 3], 4: [0, 1, 4]}\n    \"\"\"\n    n = len(a) # dimension de la matrice\n    dic = dict()\n    for i in range(n):\n        dic[i]=[]\n        for j in range(n):\n            if a[i][j] == 1:\n                dic[i].append(j)\n    return dic\n   ",
      "metadata": {
        "trusted": true
      },
      "outputs": [],
      "execution_count": 42
    },
    {
      "id": "d9e668b2-5255-4c07-be78-b9bb181f1e75",
      "cell_type": "markdown",
      "source": "#### Passage de la représentation par listes de successeurs à la représentation matricielle \n\nOn suppose que les sommets sont représentés par des numéros $1,2,\\ldots, n$\n\nAlgorithme:\n\n> $n$ est un entier strictement positif\n> \n> $a$ est une matrice $n\\times n$ remplie de zéros\n>\n> $g$ est un dictionnaire représentant un graphe orienté $G$\n>\n> $lsucc$ est une liste\n>\n> Pour chaque clé $i$ dans $g$:\n> > $lsucc \\leftarrow g[i]$\n> >\n> > Pour chaque élément $j$ de la liste $lsucc$:\n> > > $a_{i,j} = 1$\n\nPour un graphe non orienté, il faut dédoubler l'opération:\n\n\n>    $a_{i,j} = 1$\n> \n>    $a_{j,i} = 1$\n\nImplémentation :",
      "metadata": {}
    },
    {
      "id": "82c55a0b-d0d2-4718-b7dd-7aa6545e0beb",
      "cell_type": "code",
      "source": "def dicVersMat(g):\n    \"\"\" \n    Renvoie une représentation par une matirce d'adjacence d'un graphe orienté défini par listes de successeurs g.\n    Les sommets sont numérotés.\n    Exemple: \n\n    >>> g  ={\n    \"a\": [\"a\", \"d\"],\n    \"b\": [\"c\"],\n    \"c\": [\"d\", \"e\"],\n    \"d\": [\"a\", \"c\"],\n    \"e\": [\"c\"],\n    \"f\": [\"a\"],\n    }\n\n    >>> dicVersMat(g)\n    [[1, 0, 0, 1, 0, 0],\n     [0, 0, 1, 0, 0, 0],\n     [0, 0, 0, 1, 1, 0],\n     [1, 0, 1, 0, 0, 0],\n     [0, 0, 1, 0, 0, 0],\n     [1, 0, 0, 0, 0, 0]]  \n    \"\"\"\n    n = len(g)\n    a = [[0] *n for _ in range(n)] # une matrice carrée a nulle de dimension n\n    for i, depart in enumerate(g):\n        for arrivee in g[depart]:\n            j = list(g.keys()).index(arrivee)\n            # ou bien : j = g.keys().index(arrivee) mais nécessite OrderedDict\n            a[i][j] = 1\n    return a",
      "metadata": {
        "trusted": true
      },
      "outputs": [],
      "execution_count": 43
    },
    {
      "id": "3e2229e2-766e-43cd-92f4-1bdb11101d93",
      "cell_type": "markdown",
      "source": "Dans ce suit, on n'utilise que la représentation par liste de successeurs, sans utilisation d'une classe. \n## Algorithmes sur les graphes\n\nLes algorithmes à connaitre sont \n- les deux types de parcours: en largeur d'abord, en profondeur d'abord\n- repérer un cycle dans un graphe\n- chercher un chemin d'un sommet à un autre\n\nLe parcours d'un graphe consiste à visiter tous les sommets possibles à partir d'un sommet de départ, en suivant les arcs existants.\nCela correspond à une exploration pas-à-pas, sans connaissance globale du graphe\n\nIl y a à connaître deux façons de parcourir un graphe orienté:\n\n- en profondeur d'abord\n- en largeur d'abord\n\nPour illustrer les deux apporches, on va utiliser le graphe suivant, de structure assez régulière.",
      "metadata": {}
    },
    {
      "id": "85076a5d-4356-4a2a-858d-34a214386677",
      "cell_type": "code",
      "source": "gr3par5 = {\"A\": [\"B\", \"F\"], \"B\": [\"C\",\"G\"], \"C\":[\"D\", \"H\"], \"D\":[\"E\", \"I\"], \"E\": [\"J\"],\n           \"F\": [\"G\", \"K\"], \"G\": [\"H\",\"L\"], \"H\":[\"I\", \"M\"], \"I\":[\"J\", \"N\"], \"J\":[\"O\"],\n           \"K\": [\"L\"],      \"L\": [\"M\"],     \"M\":[\"N\"],      \"N\": [\"O\"],     \"O\": []}\n\n#\n#    A → B → C → D → E \n#    ↓   ↓   ↓   ↓   ↓\n#    F → G → H → I → J\n#    ↓   ↓   ↓   ↓   ↓\n#    K → L → M → N → O\n#",
      "metadata": {
        "trusted": true
      },
      "outputs": [],
      "execution_count": 44
    },
    {
      "id": "903149e0-7f09-4556-9cb0-a74697cf0599",
      "cell_type": "markdown",
      "source": "Le **parcours en profondeur d'abord** cherche à aller en priorité au bout de chaque chemin avant de revenir à un sommet déjà visité\n\n[Un parcours en profondeur d'abord](gr3par5prof.jpg)\n\nLe **parcours en largeur d'abord** cherche à aller en priorité à chacun des voisins d'un sommet \n\n[Un parcours en largeur d'abord](gr3par5larg.jpg)",
      "metadata": {
        "jp-MarkdownHeadingCollapsed": true
      }
    },
    {
      "id": "688332f2-571d-4a55-81f5-a5142de6cfe8",
      "cell_type": "markdown",
      "source": "### Parcours en profondeur d'abord\nL'algorithme présenté ci-dessous est **récursif**.\n\n> $gr$ est un graphe orienté représenté par listes de successeurs\n> \n> $dejavu$ est un ensemble de sommets initialement vide\n>\n> **Procédure** parcourProf($gr$, $depart$):\n> > $s$, $t$ désignent des sommets\n> > \n> > Ajouter $depart$ à l'ensemble $dejavu$\n> >\n> > Pour chaque sommet $t$ successeur de $s$ faire:\n> > >\n> > >  Si $t$ n'est pas dans $dejavu$:\n> > > >\n> > > >  Traiter le sommet $t$\n> > > >\n> > > >  parcourProf($gr$, $t$)",
      "metadata": {}
    },
    {
      "id": "7b80a76d-e1ee-4a46-b235-c6cd47d76e2e",
      "cell_type": "markdown",
      "source": "Si « Traiter » consiste à afficher, on obtient l'affichage des sommets joignables à partir de celui de départ dans l'ordre induit par la stratégie « en profondeur d'abord ».\n\nOn l'implémente ci-dessous de manière plus intéressante: il devient une fonction renvoyant la liste des sommets rencontrés.",
      "metadata": {}
    },
    {
      "id": "bfae1ec0-e8bb-4d46-b471-767b9a3a0cfc",
      "cell_type": "code",
      "source": "def parcoursEnProfondeur(gr, depart):\n    \"\"\"\n    Renvoie la liste des sommets accessibles depuis le sommet depart dans le graphe gr.\n    Parcours en profondeur d'abord.\n    Version récursive.\n    >>> g ={\n    \"a\": [\"a\", \"d\"],\n    \"b\": [\"c\"],\n    \"c\": [\"d\", \"e\"],\n    \"d\": [\"a\", \"c\"],\n    \"e\": [\"c\"],\n    \"f\": [\"a\"],\n    }\n    >>> parcoursEnProfondeur(g, \"f\")\n    ['f', 'a', 'd', 'c', 'e']\n    >>> parcoursEnProfondeur(g, \"c\")\n    ['c', 'd', 'a', 'e']\n    \"\"\"\n    dejavu = set(depart)\n    liste = [depart]\n    \n    def parcoursRecursif(s):\n        for v in gr[s]:\n            if v not in dejavu:\n                liste.append(v)\n                dejavu.add(v)\n                parcoursRecursif(v)\n    parcoursRecursif(depart)\n    \n    return liste        ",
      "metadata": {
        "trusted": true
      },
      "outputs": [],
      "execution_count": 45
    },
    {
      "id": "8701b528-dfc2-43b2-a202-130dbc29f38f",
      "cell_type": "markdown",
      "source": "L'implémentation ci-dessus utilise une fonction auxiliaire `parcoursRecursif` déclarée à l'intérieur du corps de la fonction `parcoursEnnProfondeur`. \n\nCela prermet d'initialiser les variables globales utilisées par la fonction auxliliaire tout en les masquant à l'utilisateur·rice. ",
      "metadata": {}
    },
    {
      "id": "37be8248-0209-4f0f-9de5-b4a4cf36fd7c",
      "cell_type": "markdown",
      "source": "### Parcours en largeur d'abord\nL'algorithme présenté ci-dessous est **itératif**. \n\nIl utilise une **file** pour stocker les sommets à visiter.\n\nOn rappelle qu'une file a essentiellement deux méthodes:\n\n- enfiler : ajouter un élément **en queue**\n- défiler : retirer un élément **en tête**\n\nAlgorithme\n\n\n> $gr$ est un graphe orienté représenté par listes de successeurs\n> \n> $dejavu$ est un ensemble de sommets initialement vide\n>\n> $file$ est une file de sommets initialement vide\n>\n> **Procédure** parcourLarg($gr$, $depart$):\n> > $s$, $t$ désignent des sommets\n> > \n> > Ajouter $depart$ à l'ensemble $dejavu$\n> >\n> > Enfiler $depart$ dans $file$\n> >\n> > Tant que $file$ n'est pas vide:\n> >\n> > > Défiler $file$ et récupérer l'élément sorti dans la variable $s$\n> > >\n> > > Pour chaque sommet $t$ successeur de $s$ faire:\n> > >\n> > > > Si $t$ n'est pas dans $dejavu$:\n> > > >\n> > > > > Ajouter $t$ à l'ensemble $dejavu$\n> > > > >\n> > > > > Enfiler $t$ dans $file$\n> > > > >\n> > > > > Traiter le sommet $t$\n\n",
      "metadata": {}
    },
    {
      "id": "f17b548a-db4b-4a8d-9faa-a8c6d29f87dd",
      "cell_type": "code",
      "source": "def parcoursEnLargeur(gr, depart):\n    \"\"\"\n    Renvoie la liste des sommets accessibles depuis le sommet depart dans le graphe gr.\n    Parcours en largeur d'abord.\n    >>> g ={\n    \"a\": [\"a\", \"d\"],\n    \"b\": [\"c\"],\n    \"c\": [\"d\", \"e\"],\n    \"d\": [\"a\", \"c\"],\n    \"e\": [\"c\"],\n    \"f\": [\"a\"],\n    }\n    >>> parcoursEnLargeur(g, \"f\")\n    ['f', 'a', 'd', 'c', 'e']\n    >>> parcoursEnLargeur(g, \"c\")\n    ['c', 'd', 'e', 'a']\n    \"\"\"\n    dejavu = set(depart)\n    liste = [depart]\n    file = [depart]\n    while file:\n        sommet = file.pop(0)\n        for s in gr[sommet]:\n            if s not in dejavu:\n                liste.append(s)\n                file.append(s)\n                dejavu.add(s)\n    return liste",
      "metadata": {
        "trusted": true
      },
      "outputs": [],
      "execution_count": 46
    },
    {
      "id": "93465d1d-82b7-4628-8ce2-94e37dc09b31",
      "cell_type": "code",
      "source": "parcoursEnProfondeur(gr3par5,\"A\")",
      "metadata": {
        "trusted": true
      },
      "outputs": [
        {
          "execution_count": 47,
          "output_type": "execute_result",
          "data": {
            "text/plain": "['A', 'B', 'C', 'D', 'E', 'J', 'O', 'I', 'N', 'H', 'M', 'G', 'L', 'F', 'K']"
          },
          "metadata": {}
        }
      ],
      "execution_count": 47
    },
    {
      "id": "2bc1df04-905e-4099-bf6f-d838f7e6d4b9",
      "cell_type": "code",
      "source": "parcoursEnLargeur(gr3par5,\"A\")",
      "metadata": {
        "trusted": true
      },
      "outputs": [
        {
          "execution_count": 48,
          "output_type": "execute_result",
          "data": {
            "text/plain": "['A', 'B', 'F', 'C', 'G', 'K', 'D', 'H', 'L', 'E', 'I', 'M', 'J', 'N', 'O']"
          },
          "metadata": {}
        }
      ],
      "execution_count": 48
    },
    {
      "id": "24b66d5d-029d-476e-a5c4-cebdd7808d6f",
      "cell_type": "markdown",
      "source": "### Repérer un cycle\n\nOn traite ici seulement le cas des graphes orientés.\n\nL'idée est d'adapter l'algorithme de parcours en profondeur d'abord en gardant trace du chemin emprunté.\nSi ce chemin revient sur un sommet déjà visité, un est en présence d'un circuit.\n\nComme on n'est pas sûr de pouvoir aller partout dans le graphe à partir de n'importe quel sommet de départ[^1], il faut répéter l'opération en prenant chaque sommet du graphe comme départ. \n\n[^1]: On dit alors que le graphe n'est pas fortement connexe.",
      "metadata": {}
    },
    {
      "id": "c6efe529-916f-44e2-b762-52a69ed5f40e",
      "cell_type": "code",
      "source": "# Adapté à partir de :\n# https://www.geeksforgeeks.org/detect-cycle-in-a-graph/\n\ndef aUnCircuit(gr):\n    dejavu = []\n    pile = [] \n\n    def parcoursRecursif(gr, s):\n        if s not in dejavu:\n            dejavu.append(s)\n            pile.append(s)\n            for x in gr[s]:\n                if x not in dejavu and parcoursRecursif(gr, x):\n                    return True\n                elif x in pile:\n                    return True\n        pile.pop() \n        return False\n    \n    for s in gr:\n        if s not in dejavu and parcoursRecursif(gr, s):\n            return True\n    return False\n",
      "metadata": {
        "trusted": true
      },
      "outputs": [],
      "execution_count": 49
    },
    {
      "id": "5fff172d-6d88-4141-b420-6421811f0fa4",
      "cell_type": "markdown",
      "source": "### Chercher un chemin entre deux sommets\nLe problème consiste à trouver un chemin (s'il existe) entre un sommet de départ $s_1$ et un sommet d'arrivée $s_2$.\n\nOn ne se préoccupe pas de trouver tous les chemins, ni forcément le plus court. \n\nLe principe est celui du **retour arrière** ou *backtracking*.\n\nOn explore le graphe en revenant en arrière si on arrive dans un cul-de-sac. Pour cela, la récursivité est l'outil naturel.\n\nIl faut aussi éviter les boucles infinies: pour cela on évitera de passer deux fois au même endroit en mémorisant le chemin parcouru jusque là et en vérifiant que le nouvevau sommet envisagé n'est pas déjà présent dans notre chemin.\n\nLa procédure ci-dessous affiche tous les chemins (sans circuit) possibles entre un sommet $s_1$ de départ et un sommet d'arrivée $s_2$.\n\nElle ne fonctionne que pour $s_1 \\neq s_2$. ",
      "metadata": {}
    },
    {
      "id": "f8c787cd-260a-4a96-87f9-62cabe847ae3",
      "cell_type": "code",
      "source": "def chercheChemin(gr, s1, s2):\n    \"\"\"\n    Affiche tous les chemins possibles de s1 à s2 dans le graphe gr.\n    Ne fonctionne que pour s1 ≠ s2\n    \"\"\"\n    def parcoursRecursif(s, chemin, trouve=False):\n        if not trouve:\n            for t in gr[s]:\n                if t not in chemin:\n                    if t != s2:\n                        parcoursRecursif(t, chemin+[t], trouve)\n                    else:\n                        print(chemin+[t])\n                        trouve = True\n    parcoursRecursif(s1, [s1], False)",
      "metadata": {
        "trusted": true
      },
      "outputs": [],
      "execution_count": 101
    },
    {
      "id": "43a2e00e-5220-4b9e-ac2e-9a86845900b9",
      "cell_type": "code",
      "source": "chercheChemin(g, \"a\", \"e\")",
      "metadata": {
        "trusted": true
      },
      "outputs": [
        {
          "name": "stdout",
          "text": "['a', 'd', 'c', 'e']\n",
          "output_type": "stream"
        }
      ],
      "execution_count": 102
    },
    {
      "id": "36b40261-6ff8-4a87-820a-8385f070e610",
      "cell_type": "code",
      "source": "chercheChemin(g, \"e\", \"a\")",
      "metadata": {
        "trusted": true
      },
      "outputs": [
        {
          "name": "stdout",
          "text": "['e', 'c', 'd', 'a']\n",
          "output_type": "stream"
        }
      ],
      "execution_count": 103
    },
    {
      "id": "64857632-eff3-4516-aa00-8736abbcce51",
      "cell_type": "code",
      "source": "chercheChemin(g, \"a\", \"f\")",
      "metadata": {
        "trusted": true,
        "scrolled": true
      },
      "outputs": [],
      "execution_count": 104
    },
    {
      "id": "17d6eb00-fdcb-4e4f-92b0-174cf30d4130",
      "cell_type": "code",
      "source": "chercheChemin(gr3par5, \"A\", \"D\")",
      "metadata": {
        "trusted": true
      },
      "outputs": [
        {
          "name": "stdout",
          "text": "['A', 'B', 'C', 'D']\n",
          "output_type": "stream"
        }
      ],
      "execution_count": 106
    },
    {
      "id": "ef6db3f0-898d-4961-8e6b-20dfa03e1c49",
      "cell_type": "code",
      "source": "chercheChemin(gr3par5, \"D\", \"O\")",
      "metadata": {
        "trusted": true
      },
      "outputs": [
        {
          "name": "stdout",
          "text": "['D', 'E', 'J', 'O']\n['D', 'I', 'J', 'O']\n['D', 'I', 'N', 'O']\n",
          "output_type": "stream"
        }
      ],
      "execution_count": 107
    },
    {
      "id": "255335d8-745b-4401-a2f8-0e32db556955",
      "cell_type": "code",
      "source": "chercheChemin(gr3par5, \"A\", \"I\")",
      "metadata": {
        "trusted": true,
        "scrolled": true
      },
      "outputs": [
        {
          "name": "stdout",
          "text": "['A', 'B', 'C', 'D', 'I']\n['A', 'B', 'C', 'H', 'I']\n['A', 'B', 'G', 'H', 'I']\n['A', 'F', 'G', 'H', 'I']\n",
          "output_type": "stream"
        }
      ],
      "execution_count": 109
    },
    {
      "id": "634ab607-d072-4fb1-9f43-1ec3acd19de2",
      "cell_type": "markdown",
      "source": "## Tests",
      "metadata": {}
    },
    {
      "id": "5a783899-a7cb-4452-8384-d6b1d5a18c54",
      "cell_type": "markdown",
      "source": "### Utilisation d'une classe `Graphe`\n",
      "metadata": {}
    },
    {
      "id": "64a4091b-64a6-468c-be2c-770674c95edc",
      "cell_type": "markdown",
      "source": "### Trouver tous les chemins d'une longueur donnée partant d'un sommet",
      "metadata": {}
    },
    {
      "id": "865dd892-57d7-44b3-890d-bde4861c7940",
      "cell_type": "code",
      "source": "# les chemins de longueur 1 au depart de x sont formés des chaines [x, s] avec s successeur de x\n# Les chemins de longueur 2 au depart de x sont formés des ch de long 1 prolongés par les successeurs des extrémités des susdits\n# ...\n\ndef cheminsDeLongueur(gr, depart, longueur):\n    if longueur == 0:\n        return [[depart]]\n    else:\n        listeChemins = cheminsDeLongueur(gr, depart, longueur - 1)\n        return [ chemin + [s] for chemin in listeChemins for s in gr[chemin[-1]] ]   ",
      "metadata": {
        "trusted": true
      },
      "outputs": [],
      "execution_count": 50
    },
    {
      "id": "9fec5816-6627-46dc-ac9f-4221d0194f83",
      "cell_type": "markdown",
      "source": "### Trouver tous les chemins sans cycle en partant d'un sommet",
      "metadata": {}
    },
    {
      "id": "06544c8e-9b48-4cd5-b8df-169d385f9e36",
      "cell_type": "code",
      "source": "# ! nononon marche pas : oublie des chemins\ndef cheminsSansCycle(gr, depart):\n    \"\"\"Renvoie la liste des chemins possibles depuis le sommet depart dans le graphe gr.\n        Parcours en largeur d'abord.\n        Version récursive.\n        \"\"\"\n    dejavu = set(depart)\n    liste = [[depart]]\n    \n    def cheminsSommetPasDejaVu(longueur):\n        if longueur == 0:\n            return [[depart]]\n        else:\n            listeChemins = cheminsSommetPasDejaVu(longueur - 1) \n            for chemin in listeChemins:\n                for s in gr[chemin[-1]]:\n                    if s not in dejavu:\n                        dejavu.add(s)\n                        liste.append(chemin + [s])\n            return liste\n    return cheminsSommetPasDejaVu(len(g)-1) # un chemin sans cycle dans un graphe à n sommets est au plus de longueur n-1",
      "metadata": {
        "trusted": true
      },
      "outputs": [],
      "execution_count": 51
    },
    {
      "id": "9382f782-4cac-428e-8855-0e3acf131ad1",
      "cell_type": "code",
      "source": "cheminsSansCycle(g, \"a\")",
      "metadata": {
        "trusted": true
      },
      "outputs": [
        {
          "execution_count": 52,
          "output_type": "execute_result",
          "data": {
            "text/plain": "[['a'], ['a', 'd'], ['a', 'd', 'c'], ['a', 'd', 'c', 'e']]"
          },
          "metadata": {}
        }
      ],
      "execution_count": 52
    },
    {
      "id": "a8a9c0a6-9e01-4ff4-87d0-612bfe4472ad",
      "cell_type": "code",
      "source": "cheminsSansCycle(g, \"d\") ",
      "metadata": {
        "trusted": true
      },
      "outputs": [
        {
          "execution_count": 53,
          "output_type": "execute_result",
          "data": {
            "text/plain": "[['d'], ['d', 'a'], ['d', 'c'], ['d', 'c', 'e']]"
          },
          "metadata": {}
        }
      ],
      "execution_count": 53
    },
    {
      "id": "1f27c9a9-1972-4d96-9885-4933489f1e03",
      "cell_type": "code",
      "source": "cheminsSansCycle(g, \"c\")",
      "metadata": {
        "trusted": true
      },
      "outputs": [
        {
          "execution_count": 54,
          "output_type": "execute_result",
          "data": {
            "text/plain": "[['c'], ['c', 'd'], ['c', 'e'], ['c', 'd', 'a']]"
          },
          "metadata": {}
        }
      ],
      "execution_count": 54
    },
    {
      "id": "b483ce69-1795-4282-8d9a-8bad8aa8ba9b",
      "cell_type": "code",
      "source": "cheminsSansCycle(gr3par5, \"A\")",
      "metadata": {
        "trusted": true
      },
      "outputs": [
        {
          "execution_count": 55,
          "output_type": "execute_result",
          "data": {
            "text/plain": "[['A'],\n ['A', 'B'],\n ['A', 'F'],\n ['A', 'B', 'C'],\n ['A', 'B', 'G'],\n ['A', 'F', 'K'],\n ['A', 'B', 'C', 'D'],\n ['A', 'B', 'C', 'H'],\n ['A', 'B', 'G', 'L'],\n ['A', 'B', 'C', 'D', 'E'],\n ['A', 'B', 'C', 'D', 'I'],\n ['A', 'B', 'C', 'H', 'M'],\n ['A', 'B', 'C', 'D', 'E', 'J'],\n ['A', 'B', 'C', 'D', 'I', 'N'],\n ['A', 'B', 'C', 'D', 'E', 'J', 'O']]"
          },
          "metadata": {}
        }
      ],
      "execution_count": 55
    },
    {
      "id": "bd140c87",
      "cell_type": "code",
      "source": "g ={\n    \"a\": [\"a\", \"d\"],\n    \"b\": [\"c\"],\n    \"c\": [\"d\", \"e\"],\n    \"d\": [\"a\", \"c\"],\n    \"e\": [\"c\"],\n    \"f\": [\"a\"],\n}\na = dicVersMat(g)",
      "metadata": {
        "trusted": true
      },
      "outputs": [],
      "execution_count": 56
    },
    {
      "id": "cb05226e-9d6a-48f8-ace7-1fee5178381c",
      "cell_type": "code",
      "source": "a ",
      "metadata": {
        "trusted": true
      },
      "outputs": [
        {
          "execution_count": 57,
          "output_type": "execute_result",
          "data": {
            "text/plain": "[[1, 0, 0, 1, 0, 0],\n [0, 0, 1, 0, 0, 0],\n [0, 0, 0, 1, 1, 0],\n [1, 0, 1, 0, 0, 0],\n [0, 0, 1, 0, 0, 0],\n [1, 0, 0, 0, 0, 0]]"
          },
          "metadata": {}
        }
      ],
      "execution_count": 57
    },
    {
      "id": "6ae5fefc-f356-44d4-a00a-58d7102f5641",
      "cell_type": "code",
      "source": "matVersDic(a)",
      "metadata": {
        "trusted": true
      },
      "outputs": [
        {
          "execution_count": 58,
          "output_type": "execute_result",
          "data": {
            "text/plain": "{0: [0, 3], 1: [2], 2: [3, 4], 3: [0, 2], 4: [2], 5: [0]}"
          },
          "metadata": {}
        }
      ],
      "execution_count": 58
    },
    {
      "id": "d974baf8",
      "cell_type": "code",
      "source": "dicVersMat(matVersDic(a))",
      "metadata": {
        "trusted": true
      },
      "outputs": [
        {
          "execution_count": 59,
          "output_type": "execute_result",
          "data": {
            "text/plain": "[[1, 0, 0, 1, 0, 0],\n [0, 0, 1, 0, 0, 0],\n [0, 0, 0, 1, 1, 0],\n [1, 0, 1, 0, 0, 0],\n [0, 0, 1, 0, 0, 0],\n [1, 0, 0, 0, 0, 0]]"
          },
          "metadata": {}
        }
      ],
      "execution_count": 59
    },
    {
      "id": "86b7d196-bbf1-48d6-803c-677fe2376131",
      "cell_type": "code",
      "source": "",
      "metadata": {
        "trusted": true
      },
      "outputs": [],
      "execution_count": null
    },
    {
      "id": "bade9494-4edf-4119-9848-21a02610a1b5",
      "cell_type": "code",
      "source": "for i in range(6):\n    print(cheminsDeLongueur(g, \"a\", i))\n",
      "metadata": {
        "trusted": true
      },
      "outputs": [
        {
          "name": "stdout",
          "text": "[['a']]\n[['a', 'a'], ['a', 'd']]\n[['a', 'a', 'a'], ['a', 'a', 'd'], ['a', 'd', 'a'], ['a', 'd', 'c']]\n[['a', 'a', 'a', 'a'], ['a', 'a', 'a', 'd'], ['a', 'a', 'd', 'a'], ['a', 'a', 'd', 'c'], ['a', 'd', 'a', 'a'], ['a', 'd', 'a', 'd'], ['a', 'd', 'c', 'd'], ['a', 'd', 'c', 'e']]\n[['a', 'a', 'a', 'a', 'a'], ['a', 'a', 'a', 'a', 'd'], ['a', 'a', 'a', 'd', 'a'], ['a', 'a', 'a', 'd', 'c'], ['a', 'a', 'd', 'a', 'a'], ['a', 'a', 'd', 'a', 'd'], ['a', 'a', 'd', 'c', 'd'], ['a', 'a', 'd', 'c', 'e'], ['a', 'd', 'a', 'a', 'a'], ['a', 'd', 'a', 'a', 'd'], ['a', 'd', 'a', 'd', 'a'], ['a', 'd', 'a', 'd', 'c'], ['a', 'd', 'c', 'd', 'a'], ['a', 'd', 'c', 'd', 'c'], ['a', 'd', 'c', 'e', 'c']]\n[['a', 'a', 'a', 'a', 'a', 'a'], ['a', 'a', 'a', 'a', 'a', 'd'], ['a', 'a', 'a', 'a', 'd', 'a'], ['a', 'a', 'a', 'a', 'd', 'c'], ['a', 'a', 'a', 'd', 'a', 'a'], ['a', 'a', 'a', 'd', 'a', 'd'], ['a', 'a', 'a', 'd', 'c', 'd'], ['a', 'a', 'a', 'd', 'c', 'e'], ['a', 'a', 'd', 'a', 'a', 'a'], ['a', 'a', 'd', 'a', 'a', 'd'], ['a', 'a', 'd', 'a', 'd', 'a'], ['a', 'a', 'd', 'a', 'd', 'c'], ['a', 'a', 'd', 'c', 'd', 'a'], ['a', 'a', 'd', 'c', 'd', 'c'], ['a', 'a', 'd', 'c', 'e', 'c'], ['a', 'd', 'a', 'a', 'a', 'a'], ['a', 'd', 'a', 'a', 'a', 'd'], ['a', 'd', 'a', 'a', 'd', 'a'], ['a', 'd', 'a', 'a', 'd', 'c'], ['a', 'd', 'a', 'd', 'a', 'a'], ['a', 'd', 'a', 'd', 'a', 'd'], ['a', 'd', 'a', 'd', 'c', 'd'], ['a', 'd', 'a', 'd', 'c', 'e'], ['a', 'd', 'c', 'd', 'a', 'a'], ['a', 'd', 'c', 'd', 'a', 'd'], ['a', 'd', 'c', 'd', 'c', 'd'], ['a', 'd', 'c', 'd', 'c', 'e'], ['a', 'd', 'c', 'e', 'c', 'd'], ['a', 'd', 'c', 'e', 'c', 'e']]\n",
          "output_type": "stream"
        }
      ],
      "execution_count": 60
    },
    {
      "id": "fd2d8909-6037-45ad-968b-dbae7c83aec3",
      "cell_type": "code",
      "source": "print(cheminsDeLongueur(g, \"d\", 3))",
      "metadata": {
        "trusted": true
      },
      "outputs": [
        {
          "name": "stdout",
          "text": "[['d', 'a', 'a', 'a'], ['d', 'a', 'a', 'd'], ['d', 'a', 'd', 'a'], ['d', 'a', 'd', 'c'], ['d', 'c', 'd', 'a'], ['d', 'c', 'd', 'c'], ['d', 'c', 'e', 'c']]\n",
          "output_type": "stream"
        }
      ],
      "execution_count": 61
    },
    {
      "id": "2ff789ae-1193-4171-bb8c-772119fc226a",
      "cell_type": "code",
      "source": "def aUnCircuit2(gr):\n    # tentative sans pile MARCHE PAS\n    dejavu = []\n    \n    def parcoursRecursif(gr, s, pile):\n        if s not in dejavu:\n            dejavu.append(s)\n            for x in gr[s]:\n                np = pile.copy()\n                np.append(x)\n                if x not in dejavu and parcoursRecursif(gr, x, np):\n                    return True\n                elif x in pile:\n                    return True\n        return False\n    \n    for s in gr:\n        if s not in dejavu and parcoursRecursif(gr, s, []):\n            return True\n    return False\n\n         \nprint(aUnCircuit2(g))\n\nprint(aUnCircuit2(gr3par5))\n    \nprint(aUnCircuit2({\"a\": [\"b\"], \"b\": []}))\n\nprint(aUnCircuit2({\"a\": [\"b\"], \"b\": [\"a\"]}))\n\nprint(aUnCircuit2({\"a\": [\"a\"]}))\n\nprint(\n    )\n",
      "metadata": {
        "trusted": true
      },
      "outputs": [
        {
          "name": "stdout",
          "text": "True\nFalse\nFalse\nFalse\nFalse\n\n",
          "output_type": "stream"
        }
      ],
      "execution_count": 62
    },
    {
      "id": "a7c9e2b9-8494-4409-aa86-69f1d78020ee",
      "cell_type": "code",
      "source": "aUnCircuit(g)",
      "metadata": {
        "trusted": true
      },
      "outputs": [
        {
          "execution_count": 63,
          "output_type": "execute_result",
          "data": {
            "text/plain": "True"
          },
          "metadata": {}
        }
      ],
      "execution_count": 63
    },
    {
      "id": "5efbb6b4-4998-40cc-8329-e332145b53cc",
      "cell_type": "code",
      "source": "aUnCircuit(gr3par5)",
      "metadata": {
        "trusted": true
      },
      "outputs": [
        {
          "execution_count": 64,
          "output_type": "execute_result",
          "data": {
            "text/plain": "False"
          },
          "metadata": {}
        }
      ],
      "execution_count": 64
    },
    {
      "id": "2c31f195-ec60-4250-9cc0-0ea2295be144",
      "cell_type": "code",
      "source": "aUnCircuit({\"a\": [\"b\"], \"b\": []})",
      "metadata": {
        "trusted": true
      },
      "outputs": [
        {
          "execution_count": 65,
          "output_type": "execute_result",
          "data": {
            "text/plain": "False"
          },
          "metadata": {}
        }
      ],
      "execution_count": 65
    },
    {
      "id": "6efa80f1-3944-4fb7-a2d7-ed8a68bfd3d9",
      "cell_type": "code",
      "source": "aUnCircuit({\"a\": [\"b\"], \"b\": [\"a\"]})",
      "metadata": {
        "trusted": true
      },
      "outputs": [
        {
          "execution_count": 66,
          "output_type": "execute_result",
          "data": {
            "text/plain": "True"
          },
          "metadata": {}
        }
      ],
      "execution_count": 66
    },
    {
      "id": "fa375164-d1ef-4def-b1cc-cd4700d791a1",
      "cell_type": "code",
      "source": "aUnCircuit({\"a\": [\"a\"]})",
      "metadata": {
        "trusted": true
      },
      "outputs": [
        {
          "execution_count": 67,
          "output_type": "execute_result",
          "data": {
            "text/plain": "True"
          },
          "metadata": {}
        }
      ],
      "execution_count": 67
    },
    {
      "id": "a2dab8ce-b06e-4152-968e-d47e27fda7ce",
      "cell_type": "code",
      "source": "aUnCircuit({})",
      "metadata": {
        "trusted": true
      },
      "outputs": [
        {
          "execution_count": 68,
          "output_type": "execute_result",
          "data": {
            "text/plain": "False"
          },
          "metadata": {}
        }
      ],
      "execution_count": 68
    },
    {
      "id": "36482d09-fb39-47ec-a85c-93d865d1b5c4",
      "cell_type": "code",
      "source": "parcoursEnProfondeur(gr3par5,\"H\")",
      "metadata": {
        "trusted": true
      },
      "outputs": [
        {
          "execution_count": 69,
          "output_type": "execute_result",
          "data": {
            "text/plain": "['H', 'I', 'J', 'O', 'N', 'M']"
          },
          "metadata": {}
        }
      ],
      "execution_count": 69
    },
    {
      "id": "8b526451-5dac-4605-b7a9-3080b37562df",
      "cell_type": "code",
      "source": "def chercheChemin(gr, s1, s2):\n    a = False      # je deviens dingue là\n    def récu(s, chemin):\n        for t in gr[s1]:\n            if t not in chemin and not a:\n                if t != s2:\n                    récu(t, chemin+[t])\n                else:\n                    print(chemin+[t])\n                    a = True\n                    \n        return a\n    récu(s1,[s1])\n    \nprint(chercheChemin(gr3par5, \"A\", \"H\"))\n#trouveChemin(gr3par5, \"A\", \"K\")\n#trouveChemin(g, \"a\", \"d\")\n#trouveChemin(g, \"a\", \"e\")      \n        \n    ",
      "metadata": {
        "trusted": true
      },
      "outputs": [
        {
          "ename": "<class 'UnboundLocalError'>",
          "evalue": "cannot access local variable 'a' where it is not associated with a value",
          "traceback": [
            "\u001b[0;31m---------------------------------------------------------------------------\u001b[0m",
            "\u001b[0;31mUnboundLocalError\u001b[0m                         Traceback (most recent call last)",
            "Cell \u001b[0;32mIn[70], line 15\u001b[0m\n\u001b[1;32m     12\u001b[0m         \u001b[38;5;28;01mreturn\u001b[39;00m a\n\u001b[1;32m     13\u001b[0m     récu(s1,[s1])\n\u001b[0;32m---> 15\u001b[0m \u001b[38;5;28mprint\u001b[39m(\u001b[43mchercheChemin\u001b[49m\u001b[43m(\u001b[49m\u001b[43mgr3par5\u001b[49m\u001b[43m,\u001b[49m\u001b[43m \u001b[49m\u001b[38;5;124;43m\"\u001b[39;49m\u001b[38;5;124;43mA\u001b[39;49m\u001b[38;5;124;43m\"\u001b[39;49m\u001b[43m,\u001b[49m\u001b[43m \u001b[49m\u001b[38;5;124;43m\"\u001b[39;49m\u001b[38;5;124;43mH\u001b[39;49m\u001b[38;5;124;43m\"\u001b[39;49m\u001b[43m)\u001b[49m)\n\u001b[1;32m     16\u001b[0m \u001b[38;5;66;03m#trouveChemin(gr3par5, \"A\", \"K\")\u001b[39;00m\n\u001b[1;32m     17\u001b[0m \u001b[38;5;66;03m#trouveChemin(g, \"a\", \"d\")\u001b[39;00m\n\u001b[1;32m     18\u001b[0m \u001b[38;5;66;03m#trouveChemin(g, \"a\", \"e\")      \u001b[39;00m\n",
            "Cell \u001b[0;32mIn[70], line 13\u001b[0m, in \u001b[0;36mchercheChemin\u001b[0;34m(gr, s1, s2)\u001b[0m\n\u001b[1;32m     10\u001b[0m                 a \u001b[38;5;241m=\u001b[39m \u001b[38;5;28;01mTrue\u001b[39;00m\n\u001b[1;32m     12\u001b[0m     \u001b[38;5;28;01mreturn\u001b[39;00m a\n\u001b[0;32m---> 13\u001b[0m \u001b[43mrécu\u001b[49m\u001b[43m(\u001b[49m\u001b[43ms1\u001b[49m\u001b[43m,\u001b[49m\u001b[43m[\u001b[49m\u001b[43ms1\u001b[49m\u001b[43m]\u001b[49m\u001b[43m)\u001b[49m\n",
            "Cell \u001b[0;32mIn[70], line 5\u001b[0m, in \u001b[0;36mchercheChemin.<locals>.récu\u001b[0;34m(s, chemin)\u001b[0m\n\u001b[1;32m      3\u001b[0m \u001b[38;5;28;01mdef\u001b[39;00m \u001b[38;5;21mrécu\u001b[39m(s, chemin):\n\u001b[1;32m      4\u001b[0m     \u001b[38;5;28;01mfor\u001b[39;00m t \u001b[38;5;129;01min\u001b[39;00m gr[s1]:\n\u001b[0;32m----> 5\u001b[0m         \u001b[38;5;28;01mif\u001b[39;00m t \u001b[38;5;129;01mnot\u001b[39;00m \u001b[38;5;129;01min\u001b[39;00m chemin \u001b[38;5;129;01mand\u001b[39;00m \u001b[38;5;129;01mnot\u001b[39;00m \u001b[43ma\u001b[49m:\n\u001b[1;32m      6\u001b[0m             \u001b[38;5;28;01mif\u001b[39;00m t \u001b[38;5;241m!=\u001b[39m s2:\n\u001b[1;32m      7\u001b[0m                 récu(t, chemin\u001b[38;5;241m+\u001b[39m[t])\n",
            "\u001b[0;31mUnboundLocalError\u001b[0m: cannot access local variable 'a' where it is not associated with a value"
          ],
          "output_type": "error"
        }
      ],
      "execution_count": 70
    },
    {
      "id": "f7c8b75f-833f-4d1e-b28a-94244d6c8907",
      "cell_type": "code",
      "source": "def cc(gr, s1, s2, chemin, trouve = False):\n    if not trouve:\n        for t in gr[s1]:\n            if t not in chemin:\n                if t != s2:\n                    cc(gr, t, s2, chemin+[t])\n                else:\n                    print(chemin+[t])\n                    trouve = True\n                    \n    return trouve\n\ncc(gr3par5, \"A\", \"H\", [\"A\"])\n    ",
      "metadata": {
        "trusted": true
      },
      "outputs": [
        {
          "name": "stdout",
          "text": "['A', 'B', 'C', 'H']\n['A', 'B', 'G', 'H']\n['A', 'F', 'G', 'H']\n",
          "output_type": "stream"
        },
        {
          "execution_count": 79,
          "output_type": "execute_result",
          "data": {
            "text/plain": "False"
          },
          "metadata": {}
        }
      ],
      "execution_count": 79
    },
    {
      "id": "bb130c09-b123-4fc4-afb3-8cfa7ceea6d3",
      "cell_type": "code",
      "source": "def ch(gr, s1, s2):\n    def recu(s, chemin, trouve=False):\n        if not trouve:\n            for t in gr[s]:\n                if t not in chemin:\n                    if t != s2:\n                        recu(t, chemin+[t], trouve)\n                    else:\n                        print(chemin+[t])\n                        trouve = True\n    recu(s1, [s1], False)                    \n\n\nch(gr3par5, \"A\", \"H\")",
      "metadata": {
        "trusted": true
      },
      "outputs": [
        {
          "name": "stdout",
          "text": "['A', 'B', 'C', 'H']\n['A', 'B', 'G', 'H']\n['A', 'F', 'G', 'H']\n",
          "output_type": "stream"
        }
      ],
      "execution_count": 100
    },
    {
      "id": "585b6103-1eb3-4866-b8f8-4ccf0f66b45c",
      "cell_type": "code",
      "source": "ch(gr3par5, \"N\", \"B\")",
      "metadata": {
        "trusted": true
      },
      "outputs": [],
      "execution_count": 94
    },
    {
      "id": "5b2853d2-dcfe-4058-a6f9-7357cf572f62",
      "cell_type": "code",
      "source": "ch(g, \"f\", \"c\")",
      "metadata": {
        "trusted": true
      },
      "outputs": [
        {
          "name": "stdout",
          "text": "['f', 'a', 'd', 'c']\n",
          "output_type": "stream"
        }
      ],
      "execution_count": 95
    },
    {
      "id": "c882832c-56e3-49a9-b9e7-d79ce0c7567b",
      "cell_type": "code",
      "source": "ch(g, \"a\", \"e\")",
      "metadata": {
        "trusted": true
      },
      "outputs": [
        {
          "name": "stdout",
          "text": "['a', 'd', 'c', 'e']\n",
          "output_type": "stream"
        }
      ],
      "execution_count": 96
    },
    {
      "id": "372bbde1-e532-4149-83e2-f8d0281ad3a4",
      "cell_type": "code",
      "source": "ch(g, \"a\", \"a\")",
      "metadata": {
        "trusted": true
      },
      "outputs": [],
      "execution_count": 97
    },
    {
      "id": "155d5690-b838-4ac6-a531-32c4511a953f",
      "cell_type": "code",
      "source": "a=5\ndef f(x):\n    return a+x\n\nprint (f(6))\n    ",
      "metadata": {
        "trusted": true
      },
      "outputs": [
        {
          "name": "stdout",
          "text": "11\n",
          "output_type": "stream"
        }
      ],
      "execution_count": 75
    },
    {
      "id": "87567cdb-0b65-49d8-bf4a-72a373833a7c",
      "cell_type": "code",
      "source": "def f(x):\n    a=2020\n    def fa(x):\n        if a == 2020:\n            print(f'a={a}')\n        return a+x\n    print(f'oui oui a={a}')\n    return fa(x)\n\nprint (f(6))",
      "metadata": {
        "trusted": true
      },
      "outputs": [
        {
          "name": "stdout",
          "text": "oui oui a=2020\na=2020\n2026\n",
          "output_type": "stream"
        }
      ],
      "execution_count": 76
    },
    {
      "id": "861abbb5-bd77-4a69-9e21-27e6e96e45d3",
      "cell_type": "code",
      "source": "def f(x):\n    a=False\n    def fa(x):\n        if a :\n            print(f'a={a}')\n        return a\n    print(f'oui oui a={a}')\n    return fa(x)\n\nprint (f(6))",
      "metadata": {
        "trusted": true
      },
      "outputs": [
        {
          "name": "stdout",
          "text": "oui oui a=False\nFalse\n",
          "output_type": "stream"
        }
      ],
      "execution_count": 77
    },
    {
      "id": "6937154a-44f3-4d3b-b71f-8047d65062b6",
      "cell_type": "code",
      "source": "",
      "metadata": {
        "trusted": true
      },
      "outputs": [],
      "execution_count": null
    },
    {
      "id": "746e4bfd-1598-44d2-a996-3fbb61d602a0",
      "cell_type": "code",
      "source": "",
      "metadata": {
        "trusted": true
      },
      "outputs": [],
      "execution_count": null
    }
  ]
}