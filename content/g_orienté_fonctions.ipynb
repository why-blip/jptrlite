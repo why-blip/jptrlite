{
 "cells": [
  {
   "cell_type": "markdown",
   "id": "1565047e-cfcf-4460-b393-404ad8607b90",
   "metadata": {},
   "source": [
    "## Graphe orienté: représentation par listes de successeurs"
   ]
  },
  {
   "cell_type": "code",
   "execution_count": 1,
   "id": "bcdba50c-8a6b-484d-b50b-81b9640a0726",
   "metadata": {},
   "outputs": [
    {
     "name": "stdout",
     "output_type": "stream",
     "text": [
      "{'a': ['d'], 'b': ['c'], 'c': ['d', 'e'], 'd': ['a', 'c'], 'e': ['c'], 'f': ['a']}\n"
     ]
    }
   ],
   "source": [
    "g = {\n",
    "    \"a\": [\"d\"],\n",
    "    \"b\": [\"c\"],\n",
    "    \"c\": [\"d\", \"e\"],\n",
    "    \"d\": [\"a\", \"c\"],\n",
    "    \"e\": [\"c\"],\n",
    "    \"f\": [\"a\"],\n",
    "}\n",
    "\n",
    "\"\"\"\n",
    "  Le dictionnaire g \n",
    "    \n",
    "   représente le graphe oriénté :\n",
    "\n",
    "     f ---> a <--> d\n",
    "                   ^\n",
    "                   |\n",
    "                   v\n",
    "            b ---> c <--> e\n",
    "\"\"\"\n",
    "\n",
    "print(g)"
   ]
  },
  {
   "cell_type": "code",
   "execution_count": 2,
   "id": "80640414-46e4-48af-8398-1157cc2cea6b",
   "metadata": {},
   "outputs": [],
   "source": [
    "# pour obtenir la liste des sommets"
   ]
  },
  {
   "cell_type": "code",
   "execution_count": 3,
   "id": "e059e246-470f-40a5-a2ca-24929d5c3d6a",
   "metadata": {},
   "outputs": [
    {
     "data": {
      "text/plain": [
       "['a', 'b', 'c', 'd', 'e', 'f']"
      ]
     },
     "execution_count": 3,
     "metadata": {},
     "output_type": "execute_result"
    }
   ],
   "source": [
    "list(g.keys()) # list nécessaire car en python3 keys est un itérateur"
   ]
  },
  {
   "cell_type": "code",
   "execution_count": 4,
   "id": "439b69ec-ac70-4ba8-aed1-4b7ab79ef3c6",
   "metadata": {},
   "outputs": [],
   "source": [
    "# pour avoir la liste des successeurs d'un sommet"
   ]
  },
  {
   "cell_type": "code",
   "execution_count": 5,
   "id": "9d9df082-aa2d-464d-a60e-0e897fe62e29",
   "metadata": {},
   "outputs": [
    {
     "data": {
      "text/plain": [
       "['a', 'c']"
      ]
     },
     "execution_count": 5,
     "metadata": {},
     "output_type": "execute_result"
    }
   ],
   "source": [
    "g[\"d\"]"
   ]
  },
  {
   "cell_type": "code",
   "execution_count": 6,
   "id": "63a88d30-34f7-4ea5-bbd2-325dea7f06c1",
   "metadata": {},
   "outputs": [],
   "source": [
    "# pour trouver la liste des prédécesseurs d'un sommet"
   ]
  },
  {
   "cell_type": "code",
   "execution_count": 7,
   "id": "b7895a33-ce4e-44f2-b808-0368ee7892da",
   "metadata": {},
   "outputs": [
    {
     "data": {
      "text/plain": [
       "['b', 'd', 'e']"
      ]
     },
     "execution_count": 7,
     "metadata": {},
     "output_type": "execute_result"
    }
   ],
   "source": [
    "[x for x in list(g.keys()) if \"c\" in g[x]] # exemple: les prédécesseurs de c"
   ]
  },
  {
   "cell_type": "markdown",
   "id": "9cc35dc5-c205-4e88-b77a-2897dc16613b",
   "metadata": {},
   "source": [
    "### Parcours en profondeur d'abord"
   ]
  },
  {
   "cell_type": "code",
   "execution_count": 8,
   "id": "bfae1ec0-e8bb-4d46-b471-767b9a3a0cfc",
   "metadata": {},
   "outputs": [],
   "source": [
    "def parcoursEnProfondeur(gr, depart):\n",
    "    \"\"\"Renvoie la liste des sommets accessibles depuis le sommet depart dans le graphe gr.\n",
    "        Parcours en profondeur d'abord.\n",
    "        Version récursive.\n",
    "        \"\"\"\n",
    "    dejavu = set(depart)\n",
    "    liste = [depart]\n",
    "    def parcoursRecursif(s):\n",
    "        for v in gr[s]:\n",
    "            if v not in dejavu:\n",
    "                liste.append(v)\n",
    "                dejavu.add(v)\n",
    "                parcoursRecursif(v)\n",
    "    parcoursRecursif(depart)\n",
    "    return liste        "
   ]
  },
  {
   "cell_type": "code",
   "execution_count": 9,
   "id": "bc574757-ca55-43b8-8749-f5d854b9e494",
   "metadata": {},
   "outputs": [
    {
     "data": {
      "text/plain": [
       "['f', 'a', 'd', 'c', 'e']"
      ]
     },
     "execution_count": 9,
     "metadata": {},
     "output_type": "execute_result"
    }
   ],
   "source": [
    "parcoursEnProfondeur(g, \"f\")"
   ]
  },
  {
   "cell_type": "code",
   "execution_count": 10,
   "id": "37724dd1-25f4-4540-8564-4f24d4c98da4",
   "metadata": {},
   "outputs": [
    {
     "data": {
      "text/plain": [
       "['a', 'd', 'c', 'e']"
      ]
     },
     "execution_count": 10,
     "metadata": {},
     "output_type": "execute_result"
    }
   ],
   "source": [
    "parcoursEnProfondeur(g, \"a\")"
   ]
  },
  {
   "cell_type": "code",
   "execution_count": 11,
   "id": "b7476b05-e3d3-4b6f-a536-ebff8388a992",
   "metadata": {},
   "outputs": [
    {
     "data": {
      "text/plain": [
       "['d', 'a', 'c', 'e']"
      ]
     },
     "execution_count": 11,
     "metadata": {},
     "output_type": "execute_result"
    }
   ],
   "source": [
    "parcoursEnProfondeur(g, \"d\")"
   ]
  },
  {
   "cell_type": "code",
   "execution_count": 12,
   "id": "b13161bc-f896-44be-8d1b-c3db4ec4806a",
   "metadata": {},
   "outputs": [
    {
     "data": {
      "text/plain": [
       "['c', 'd', 'a', 'e']"
      ]
     },
     "execution_count": 12,
     "metadata": {},
     "output_type": "execute_result"
    }
   ],
   "source": [
    "parcoursEnProfondeur(g, \"c\")"
   ]
  },
  {
   "cell_type": "code",
   "execution_count": 13,
   "id": "dfbaf658-8893-4052-b91e-04ff75077857",
   "metadata": {},
   "outputs": [
    {
     "data": {
      "text/plain": [
       "['b', 'c', 'd', 'a', 'e']"
      ]
     },
     "execution_count": 13,
     "metadata": {},
     "output_type": "execute_result"
    }
   ],
   "source": [
    "parcoursEnProfondeur(g, \"b\")"
   ]
  },
  {
   "cell_type": "code",
   "execution_count": 14,
   "id": "68da6c91-1ce8-4ab1-b024-e113c3db3525",
   "metadata": {},
   "outputs": [
    {
     "data": {
      "text/plain": [
       "['e', 'c', 'd', 'a']"
      ]
     },
     "execution_count": 14,
     "metadata": {},
     "output_type": "execute_result"
    }
   ],
   "source": [
    "parcoursEnProfondeur(g, \"e\")"
   ]
  },
  {
   "cell_type": "markdown",
   "id": "6da9d1df-0f91-4a35-86a9-7e9d966f79a9",
   "metadata": {},
   "source": [
    "### Parcours en largeur d'abord"
   ]
  },
  {
   "cell_type": "code",
   "execution_count": 15,
   "id": "cccc23f2-69cd-42e2-8a89-fe241c32383b",
   "metadata": {},
   "outputs": [],
   "source": [
    "def parcoursEnLargeur(gr, depart):\n",
    "    \"\"\"Renvoie la liste des sommets accessibles depuis le sommet depart dans le graphe gr.\n",
    "        Parcours en largeur d'abord.\n",
    "        \"\"\"\n",
    "    dejavu = set(depart)\n",
    "    liste = [depart]\n",
    "    file = [depart]\n",
    "    while file:\n",
    "        sommet = file.pop(0)\n",
    "        for s in gr[sommet]:\n",
    "            if s not in dejavu:\n",
    "                liste.append(s)\n",
    "                file.append(s)\n",
    "                dejavu.add(s)\n",
    "    return liste"
   ]
  },
  {
   "cell_type": "code",
   "execution_count": 16,
   "id": "00c62f05-abfb-4dd1-aea0-c14248d53435",
   "metadata": {},
   "outputs": [
    {
     "data": {
      "text/plain": [
       "['f', 'a', 'd', 'c', 'e']"
      ]
     },
     "execution_count": 16,
     "metadata": {},
     "output_type": "execute_result"
    }
   ],
   "source": [
    "parcoursEnLargeur(g, \"f\")"
   ]
  },
  {
   "cell_type": "code",
   "execution_count": 17,
   "id": "717a7be8-7b0b-4d27-ab53-834f4ac7dd20",
   "metadata": {},
   "outputs": [
    {
     "data": {
      "text/plain": [
       "['a', 'd', 'c', 'e']"
      ]
     },
     "execution_count": 17,
     "metadata": {},
     "output_type": "execute_result"
    }
   ],
   "source": [
    "parcoursEnLargeur(g, \"a\")"
   ]
  },
  {
   "cell_type": "code",
   "execution_count": 18,
   "id": "743e2bd3-026c-467a-94cd-23f0f66db5f6",
   "metadata": {},
   "outputs": [
    {
     "data": {
      "text/plain": [
       "['d', 'a', 'c', 'e']"
      ]
     },
     "execution_count": 18,
     "metadata": {},
     "output_type": "execute_result"
    }
   ],
   "source": [
    "parcoursEnLargeur(g, \"d\")"
   ]
  },
  {
   "cell_type": "code",
   "execution_count": 19,
   "id": "09521450-1c0f-44a9-9b31-ae6492fca71b",
   "metadata": {},
   "outputs": [
    {
     "data": {
      "text/plain": [
       "['c', 'd', 'e', 'a']"
      ]
     },
     "execution_count": 19,
     "metadata": {},
     "output_type": "execute_result"
    }
   ],
   "source": [
    "parcoursEnLargeur(g, \"c\") # ici différent du parcours en profondeur."
   ]
  },
  {
   "cell_type": "code",
   "execution_count": 20,
   "id": "457ca335-b648-49a1-a5a5-034b96b26730",
   "metadata": {},
   "outputs": [
    {
     "data": {
      "text/plain": [
       "['b', 'c', 'd', 'e', 'a']"
      ]
     },
     "execution_count": 20,
     "metadata": {},
     "output_type": "execute_result"
    }
   ],
   "source": [
    "parcoursEnLargeur(g, \"b\")"
   ]
  },
  {
   "cell_type": "code",
   "execution_count": 21,
   "id": "5fc160ca-e55e-4def-999f-0c444de8a0d2",
   "metadata": {},
   "outputs": [
    {
     "data": {
      "text/plain": [
       "['e', 'c', 'd', 'a']"
      ]
     },
     "execution_count": 21,
     "metadata": {},
     "output_type": "execute_result"
    }
   ],
   "source": [
    "parcoursEnLargeur(g, \"e\")"
   ]
  },
  {
   "cell_type": "markdown",
   "id": "93e2a3c3-f82a-44be-af0f-fa45ed8b6ce5",
   "metadata": {},
   "source": [
    "### Ajout d'un sommet, d'arêtes"
   ]
  },
  {
   "cell_type": "code",
   "execution_count": 22,
   "id": "5557fff7-a163-4ea5-97b2-afa8a712efad",
   "metadata": {},
   "outputs": [],
   "source": [
    "g[\"z\"]=[\"f\"]            # deux choses à la fois: ajoute le sommet z et l'arête z -> f \n",
    "g[\"a\"].append(\"f\")      # ajoute l'arête a -> f"
   ]
  },
  {
   "cell_type": "code",
   "execution_count": null,
   "id": "f8e03300-ab1b-4e8e-98b8-4f0b26b1aa86",
   "metadata": {},
   "outputs": [],
   "source": []
  },
  {
   "cell_type": "code",
   "execution_count": 23,
   "id": "39c413d8-0cbf-4ee5-b5db-b0710957cedd",
   "metadata": {},
   "outputs": [
    {
     "name": "stdout",
     "output_type": "stream",
     "text": [
      "\n",
      "Le graphe est maintenant\n",
      "\n",
      " f ---> a <--> d\n",
      " ^      |      ^\n",
      " |      v      |\n",
      " .----  z      |\n",
      "               |\n",
      "               v\n",
      "        b ---> c <--> e\n",
      "\n",
      "\n"
     ]
    }
   ],
   "source": [
    "print(\"\"\"\n",
    "Le graphe est maintenant\n",
    "\n",
    " f ---> a <--> d\n",
    " ^      |      ^\n",
    " |      v      |\n",
    " .----  z      |\n",
    "               |\n",
    "               v\n",
    "        b ---> c <--> e\n",
    "\n",
    "\"\"\")"
   ]
  },
  {
   "cell_type": "code",
   "execution_count": 24,
   "id": "4806d63c-eaaf-41e3-be05-2eed237a6b99",
   "metadata": {},
   "outputs": [
    {
     "name": "stdout",
     "output_type": "stream",
     "text": [
      "['f', 'a', 'd', 'c', 'e']\n"
     ]
    }
   ],
   "source": [
    "print(parcoursEnLargeur(g, \"f\"))"
   ]
  },
  {
   "cell_type": "code",
   "execution_count": 25,
   "id": "5939027a-750d-48ae-a549-9edcc2d050be",
   "metadata": {},
   "outputs": [
    {
     "name": "stdout",
     "output_type": "stream",
     "text": [
      "['c', 'd', 'e', 'a', 'f']\n"
     ]
    }
   ],
   "source": [
    "print(parcoursEnLargeur(g, \"c\"))"
   ]
  },
  {
   "cell_type": "code",
   "execution_count": 26,
   "id": "a6c0f4be-69f9-4fa1-a609-10e32a935316",
   "metadata": {},
   "outputs": [
    {
     "name": "stdout",
     "output_type": "stream",
     "text": [
      "{'a': ['d', 'f'], 'b': ['c'], 'c': ['d', 'e'], 'd': ['a', 'c'], 'e': ['c'], 'f': ['a'], 'z': ['f']}\n"
     ]
    }
   ],
   "source": [
    "print(g)"
   ]
  },
  {
   "cell_type": "markdown",
   "id": "64a4091b-64a6-468c-be2c-770674c95edc",
   "metadata": {},
   "source": [
    "### Trouver tous les chemins d'une longueur donnée partant d'un sommet"
   ]
  },
  {
   "cell_type": "code",
   "execution_count": 27,
   "id": "865dd892-57d7-44b3-890d-bde4861c7940",
   "metadata": {},
   "outputs": [],
   "source": [
    "# les chemins de longueur 1 au depart de x sont formés des chaines [x, s] avec s successeur de x\n",
    "# Les chemins de longueur 2 au depart de x sont formés des ch de long 1 prolongés par les successeurs des extrémités des susdits\n",
    "# ...\n",
    "\n",
    "def cheminsDeLongueur(gr, depart, longueur):\n",
    "    if longueur == 0:\n",
    "        return [[depart]]\n",
    "    else:\n",
    "        listeChemins = cheminsDeLongueur(gr, depart, longueur - 1)\n",
    "        return [ chemin + [s] for chemin in listeChemins for s in gr[chemin[-1]] ]   "
   ]
  },
  {
   "cell_type": "code",
   "execution_count": 34,
   "id": "bade9494-4edf-4119-9848-21a02610a1b5",
   "metadata": {},
   "outputs": [
    {
     "name": "stdout",
     "output_type": "stream",
     "text": [
      "[['z']]\n",
      "[['z', 'f']]\n",
      "[['z', 'f', 'a']]\n",
      "[['z', 'f', 'a', 'd'], ['z', 'f', 'a', 'f']]\n",
      "[['z', 'f', 'a', 'd', 'a'], ['z', 'f', 'a', 'd', 'c'], ['z', 'f', 'a', 'f', 'a']]\n",
      "[['z', 'f', 'a', 'd', 'a', 'd'], ['z', 'f', 'a', 'd', 'a', 'f'], ['z', 'f', 'a', 'd', 'c', 'd'], ['z', 'f', 'a', 'd', 'c', 'e'], ['z', 'f', 'a', 'f', 'a', 'd'], ['z', 'f', 'a', 'f', 'a', 'f']]\n",
      "[['d', 'a', 'd', 'a'], ['d', 'a', 'd', 'c'], ['d', 'a', 'f', 'a'], ['d', 'c', 'd', 'a'], ['d', 'c', 'd', 'c'], ['d', 'c', 'e', 'c']]\n"
     ]
    }
   ],
   "source": [
    "for i in range(6):\n",
    "    print(cheminsDeLongueur(g, \"z\", i))\n",
    "print(cheminsDeLongueur(g, \"d\", 3))"
   ]
  },
  {
   "cell_type": "markdown",
   "id": "9fec5816-6627-46dc-ac9f-4221d0194f83",
   "metadata": {},
   "source": [
    "### Trouver tous les chemins sans cycle en partant d'un sommet"
   ]
  },
  {
   "cell_type": "code",
   "execution_count": 72,
   "id": "06544c8e-9b48-4cd5-b8df-169d385f9e36",
   "metadata": {},
   "outputs": [],
   "source": [
    "# TODO\n",
    "def cheminsSansCycle(gr, depart):\n",
    "    \"\"\"Renvoie la liste des chemins possibles depuis le sommet depart dans le graphe gr.\n",
    "        Parcours en profondeur d'abord.\n",
    "        Version récursive.\n",
    "        \"\"\"\n",
    "    dejavu = set(depart)\n",
    "    liste = [[depart]]\n",
    "    \n",
    "    def parcoursRecursif(s, tchemin):\n",
    "        for v in gr[s]:\n",
    "            if v not in dejavu:\n",
    "                dejavu.add(v)\n",
    "                liste.append(tchemin + (v,))\n",
    "                parcoursRecursif(v, tchemin + (v,) ) # obligé demettre des tuples sinon modifie liste en place\n",
    "                \n",
    "    parcoursRecursif(depart, tuple([depart]))\n",
    "    return liste  "
   ]
  },
  {
   "cell_type": "code",
   "execution_count": 73,
   "id": "9382f782-4cac-428e-8855-0e3acf131ad1",
   "metadata": {},
   "outputs": [
    {
     "data": {
      "text/plain": [
       "[['z'],\n",
       " ('z', 'f'),\n",
       " ('z', 'f', 'a'),\n",
       " ('z', 'f', 'a', 'd'),\n",
       " ('z', 'f', 'a', 'd', 'c'),\n",
       " ('z', 'f', 'a', 'd', 'c', 'e')]"
      ]
     },
     "execution_count": 73,
     "metadata": {},
     "output_type": "execute_result"
    }
   ],
   "source": [
    "cheminsSansCycle(g, \"z\")"
   ]
  },
  {
   "cell_type": "code",
   "execution_count": 74,
   "id": "a8a9c0a6-9e01-4ff4-87d0-612bfe4472ad",
   "metadata": {},
   "outputs": [
    {
     "data": {
      "text/plain": [
       "[['d'], ('d', 'a'), ('d', 'a', 'f'), ('d', 'c'), ('d', 'c', 'e')]"
      ]
     },
     "execution_count": 74,
     "metadata": {},
     "output_type": "execute_result"
    }
   ],
   "source": [
    "cheminsSansCycle(g, \"d\") # rate d -> c"
   ]
  },
  {
   "cell_type": "code",
   "execution_count": 75,
   "id": "1f27c9a9-1972-4d96-9885-4933489f1e03",
   "metadata": {},
   "outputs": [
    {
     "data": {
      "text/plain": [
       "[['c'], ('c', 'd'), ('c', 'd', 'a'), ('c', 'd', 'a', 'f'), ('c', 'e')]"
      ]
     },
     "execution_count": 75,
     "metadata": {},
     "output_type": "execute_result"
    }
   ],
   "source": [
    "cheminsSansCycle(g, \"c\")"
   ]
  },
  {
   "cell_type": "code",
   "execution_count": 76,
   "id": "e3bf637b-aafd-423c-9fac-4773e0d96913",
   "metadata": {},
   "outputs": [
    {
     "data": {
      "text/plain": [
       "(1, 2, 3, 5)"
      ]
     },
     "execution_count": 76,
     "metadata": {},
     "output_type": "execute_result"
    }
   ],
   "source": [
    "tuple([1,2,3] + [5])"
   ]
  },
  {
   "cell_type": "code",
   "execution_count": 77,
   "id": "5fd23bf4-7827-4eb9-8eee-005b876c6551",
   "metadata": {},
   "outputs": [
    {
     "data": {
      "text/plain": [
       "(1, 2, 3, 5)"
      ]
     },
     "execution_count": 77,
     "metadata": {},
     "output_type": "execute_result"
    }
   ],
   "source": [
    "(1,2,3)+(5,)"
   ]
  },
  {
   "cell_type": "code",
   "execution_count": null,
   "id": "3af281bf-da63-4b62-8ad7-10f073e19a2c",
   "metadata": {},
   "outputs": [],
   "source": []
  },
  {
   "cell_type": "code",
   "execution_count": null,
   "id": "5024a70b-1936-4111-a479-7070906716f7",
   "metadata": {},
   "outputs": [],
   "source": []
  }
 ],
 "metadata": {
  "kernelspec": {
   "display_name": "Python 3",
   "language": "python",
   "name": "python3"
  },
  "language_info": {
   "codemirror_mode": {
    "name": "ipython",
    "version": 3
   },
   "file_extension": ".py",
   "mimetype": "text/x-python",
   "name": "python",
   "nbconvert_exporter": "python",
   "pygments_lexer": "ipython3",
   "version": "3.9.2"
  }
 },
 "nbformat": 4,
 "nbformat_minor": 5
}
